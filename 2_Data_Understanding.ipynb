{
 "cells": [
  {
   "cell_type": "markdown",
   "metadata": {},
   "source": [
    "# 2. Data Understanding"
   ]
  },
  {
   "cell_type": "markdown",
   "metadata": {},
   "source": [
    "## The Data Source [NYC OpenData Yellow Taxis Trips 2017](https://data.cityofnewyork.us/Transportation/2017-Yellow-Taxi-Trip-Data/biws-g3hs)"
   ]
  },
  {
   "cell_type": "markdown",
   "metadata": {},
   "source": [
    "[NYC OpenData](https://opendata.cityofnewyork.us) offers a collection of datasets for [Yellow taxi trips in New York City](https://data.cityofnewyork.us/browse?q=yellow%20taxi%20trip&sortBy=relevance) for the years 2009 until 2018.\n",
    "\n",
    "## The Dataset\n",
    "\n",
    "I decided to use [the dataset for 2017](https://data.cityofnewyork.us/Transportation/2017-Yellow-Taxi-Trip-Data/biws-g3hs), for the following reasons:\n",
    "* My questions concern the year 2018, but the data for 2018 is not complete.\n",
    "* Beginning with 2017 a new dataformat was used: start and end location for trips ware not given anymore as GPS coordinates due to privacy reasons, but were coded one of 263 taxi zones. I assumed that new format is easier to evaluate.\n",
    "* 2017 data is given as a 10GB csv-file. Since I had a tough timeline (several days) I wanted to avoid trouble with big data sizes. Minimum of one whole year should be contained. 2017 is closest to 2018."
   ]
  },
  {
   "cell_type": "markdown",
   "metadata": {},
   "source": [
    "## How to download the dataset"
   ]
  },
  {
   "cell_type": "markdown",
   "metadata": {},
   "source": [
    "Use [the download script](step_1_download_raw_data.sh) I prepared:"
   ]
  },
  {
   "cell_type": "markdown",
   "metadata": {},
   "source": [
    "```bash step_1_download_raw_data.sh```"
   ]
  },
  {
   "cell_type": "markdown",
   "metadata": {},
   "source": [
    "It downloads the data in csv format from this url: https://data.cityofnewyork.us/api/views/biws-g3hs/rows.csv?accessType=DOWNLOAD and compresses it with gzip at best level and saves it as `nyc-2017-yellow-taxi-trips.cvs.gz`"
   ]
  },
  {
   "cell_type": "markdown",
   "metadata": {},
   "source": [
    "```\n",
    ">bash step_1_download_raw_data.sh\n",
    "  % Total    % Received % Xferd  Average Speed   Time    Time     Time  Current\n",
    "                                 Dload  Upload   Total   Spent    Left  Speed\n",
    "100  9.8G    0  9.8G    0     0  1094k      0 --:--:--  2:36:34 --:--:-- 1213k\n",
    "```"
   ]
  },
  {
   "cell_type": "markdown",
   "metadata": {},
   "source": [
    "The download takes about 2.5 hours. Looks like the server is limited to ~1MB/s."
   ]
  },
  {
   "cell_type": "markdown",
   "metadata": {},
   "source": [
    "It contains 113,496,874 data lines plus one header line."
   ]
  },
  {
   "cell_type": "markdown",
   "metadata": {},
   "source": [
    "```\n",
    "> gunzip -c nyc-2017-yellow-taxi-trips.cvs.gz | wc -l\n",
    " 113496875\n",
    "```"
   ]
  },
  {
   "cell_type": "markdown",
   "metadata": {},
   "source": [
    "## Structure of the dataset"
   ]
  },
  {
   "cell_type": "markdown",
   "metadata": {},
   "source": [
    "NYC OpenData offers [General Info about the Dataset](https://data.cityofnewyork.us/Transportation/2017-Yellow-Taxi-Trip-Data/biws-g3hs) and a [PDF-Data-Dictionary](https://data.cityofnewyork.us/api/views/biws-g3hs/files/eb3ccc47-317f-4b2a-8f49-5a684b0b1ecc?download=true&filename=data_dictionary_trip_records_yellow.pdf)."
   ]
  },
  {
   "cell_type": "code",
   "execution_count": 32,
   "metadata": {},
   "outputs": [],
   "source": [
    "import pandas as pd"
   ]
  },
  {
   "cell_type": "code",
   "execution_count": 35,
   "metadata": {},
   "outputs": [],
   "source": [
    "# lets peek only at the first 1000 rows\n",
    "# since it may take too long otherwise\n",
    "df = pd.read_csv('nyc-2017-yellow-taxi-trips.cvs.gz', chunksize=1000).get_chunk()"
   ]
  },
  {
   "cell_type": "code",
   "execution_count": 36,
   "metadata": {},
   "outputs": [
    {
     "name": "stdout",
     "output_type": "stream",
     "text": [
      "<class 'pandas.core.frame.DataFrame'>\n",
      "RangeIndex: 1000 entries, 0 to 999\n",
      "Data columns (total 17 columns):\n",
      "VendorID                 1000 non-null int64\n",
      "tpep_pickup_datetime     1000 non-null object\n",
      "tpep_dropoff_datetime    1000 non-null object\n",
      "passenger_count          1000 non-null int64\n",
      "trip_distance            1000 non-null float64\n",
      "RatecodeID               1000 non-null int64\n",
      "store_and_fwd_flag       1000 non-null object\n",
      "PULocationID             1000 non-null int64\n",
      "DOLocationID             1000 non-null int64\n",
      "payment_type             1000 non-null int64\n",
      "fare_amount              1000 non-null float64\n",
      "extra                    1000 non-null float64\n",
      "mta_tax                  1000 non-null float64\n",
      "tip_amount               1000 non-null float64\n",
      "tolls_amount             1000 non-null float64\n",
      "improvement_surcharge    1000 non-null float64\n",
      "total_amount             1000 non-null float64\n",
      "dtypes: float64(8), int64(6), object(3)\n",
      "memory usage: 132.9+ KB\n"
     ]
    }
   ],
   "source": [
    "df.info()"
   ]
  },
  {
   "cell_type": "markdown",
   "metadata": {},
   "source": [
    "## Interesting Variables"
   ]
  },
  {
   "cell_type": "markdown",
   "metadata": {},
   "source": [
    "### tpep_pickup_datetime, tpep_dropoff_datetime\n",
    "\n",
    "That is the start end end time of the taxi trip. We will need this to analyze the trip duration."
   ]
  },
  {
   "cell_type": "markdown",
   "metadata": {},
   "source": [
    "### trip_distance\n",
    "\n",
    "We will need this one to compute trip velocity. As we will see there trip data with unbelieveable velocity and we will drop them."
   ]
  },
  {
   "cell_type": "markdown",
   "metadata": {},
   "source": [
    "### PULocationID, DOLocationID\n",
    "\n",
    "The IDs of the start and end zone of the trip. We will filter for start end end zone."
   ]
  }
 ],
 "metadata": {
  "kernelspec": {
   "display_name": "Python [default]",
   "language": "python",
   "name": "python3"
  },
  "language_info": {
   "codemirror_mode": {
    "name": "ipython",
    "version": 3
   },
   "file_extension": ".py",
   "mimetype": "text/x-python",
   "name": "python",
   "nbconvert_exporter": "python",
   "pygments_lexer": "ipython3",
   "version": "3.6.5"
  }
 },
 "nbformat": 4,
 "nbformat_minor": 2
}
