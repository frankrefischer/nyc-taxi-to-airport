{
 "cells": [
  {
   "cell_type": "code",
   "execution_count": 73,
   "metadata": {},
   "outputs": [],
   "source": [
    "import pandas as pd\n",
    "import numpy as np"
   ]
  },
  {
   "cell_type": "markdown",
   "metadata": {},
   "source": [
    "# What happened?"
   ]
  },
  {
   "cell_type": "markdown",
   "metadata": {},
   "source": [
    "At Friday, October 5th 2018 we tried to get our plane at 17:50 pm at Newark Airport."
   ]
  },
  {
   "cell_type": "markdown",
   "metadata": {},
   "source": [
    "You have to be at the airport on 1 hour before departure: so 16:50"
   ]
  },
  {
   "cell_type": "markdown",
   "metadata": {},
   "source": [
    "We planned in lots of buffer so we were picked up by a taxi at 14:15 in Manhatten,6th avenue corner 36th street."
   ]
  },
  {
   "cell_type": "markdown",
   "metadata": {},
   "source": [
    "Guess what: we arrived at 17:05 at the airport and missed the plane."
   ]
  },
  {
   "cell_type": "markdown",
   "metadata": {},
   "source": [
    "https://www.google.com/maps/place/6th+Ave+%26+W+35th+St,+New+York,+NY+10018,+USA/@40.7504619,-73.9894728,17z/data=!3m1!4b1!4m5!3m4!1s0x89c259a9673350a3:0xa607f153af52d5ca!8m2!3d40.7504619!4d-73.9872841"
   ]
  },
  {
   "cell_type": "markdown",
   "metadata": {},
   "source": [
    "# How often did it happen in 2017, that a taxi took for that too long?"
   ]
  },
  {
   "cell_type": "code",
   "execution_count": 2,
   "metadata": {},
   "outputs": [],
   "source": [
    "df = pd.read_pickle('nyc-2017-yellow-taxi-trips-to-airport-expanded.pkl.gz')"
   ]
  },
  {
   "cell_type": "code",
   "execution_count": 3,
   "metadata": {},
   "outputs": [
    {
     "data": {
      "text/plain": [
       "Index(['JFK Airport', 'LaGuardia Airport', 'Newark Airport'], dtype='object')"
      ]
     },
     "execution_count": 3,
     "metadata": {},
     "output_type": "execute_result"
    }
   ],
   "source": [
    "df.dropoff_zone.cat.categories"
   ]
  },
  {
   "cell_type": "code",
   "execution_count": 4,
   "metadata": {},
   "outputs": [
    {
     "data": {
      "text/plain": [
       "(6926, 756)"
      ]
     },
     "execution_count": 4,
     "metadata": {},
     "output_type": "execute_result"
    }
   ],
   "source": [
    "def filter_trips_to_newark_airport(df):\n",
    "    return df[df.dropoff_zone == 'Newark Airport']\n",
    "def filter_trips_from_murray_hill(df):\n",
    "    return df[df.pickup_zone == 'Murray Hill']\n",
    "\n",
    "df1 = filter_trips_from_murray_hill(df)\n",
    "df1 = filter_trips_to_newark_airport(df1)\n",
    "df1.shape"
   ]
  },
  {
   "cell_type": "code",
   "execution_count": 5,
   "metadata": {},
   "outputs": [
    {
     "data": {
      "text/plain": [
       "count    6926.000000\n",
       "mean       50.134683\n",
       "std        82.484907\n",
       "min         0.000000\n",
       "25%        33.733333\n",
       "50%        41.541667\n",
       "75%        52.662500\n",
       "max      1439.533333\n",
       "Name: trip_duration_minutes, dtype: float64"
      ]
     },
     "execution_count": 5,
     "metadata": {},
     "output_type": "execute_result"
    }
   ],
   "source": [
    "df1.trip_duration_minutes.describe()"
   ]
  },
  {
   "cell_type": "code",
   "execution_count": 36,
   "metadata": {},
   "outputs": [
    {
     "data": {
      "text/plain": [
       "(108, 1631.45)"
      ]
     },
     "execution_count": 36,
     "metadata": {},
     "output_type": "execute_result"
    }
   ],
   "source": [
    "int(df.trip_duration_minutes.max()/15),df.trip_duration_minutes.max()"
   ]
  },
  {
   "cell_type": "code",
   "execution_count": 132,
   "metadata": {},
   "outputs": [],
   "source": [
    "import seaborn as sns\n",
    "import matplotlib.pyplot as plt\n",
    "tdm = df1.trip_duration_minutes\n",
    "tdm_lt_200 = tdm[tdm < 600]\n",
    "\n",
    "df_workdays = df1[df1.dropoff_datetime.dt.weekday <5]\n",
    "tdm_workdays_tdm = df_workdays.trip_duration_minutes\n",
    "tdm_workdays_tdm_lt_200 = tdm_workdays_tdm[tdm_workdays_tdm < 200]\n",
    "\n",
    "df_weekends = df1[df1.dropoff_datetime.dt.weekday >=5]\n",
    "tdm_weekends_tdm = df_weekends.trip_duration_minutes\n",
    "tdm_weekends_tdm_lt_200 = tdm_weekends_tdm[tdm_weekends_tdm < 200]"
   ]
  },
  {
   "cell_type": "code",
   "execution_count": 133,
   "metadata": {},
   "outputs": [
    {
     "data": {
      "text/plain": [
       "163.98333333333332"
      ]
     },
     "execution_count": 133,
     "metadata": {},
     "output_type": "execute_result"
    }
   ],
   "source": [
    "tdm_lt_200.max()"
   ]
  },
  {
   "cell_type": "code",
   "execution_count": 134,
   "metadata": {},
   "outputs": [
    {
     "data": {
      "text/plain": [
       "range(0, 150, 15)"
      ]
     },
     "execution_count": 134,
     "metadata": {},
     "output_type": "execute_result"
    }
   ],
   "source": [
    "range(0, 150, 15)"
   ]
  },
  {
   "cell_type": "code",
   "execution_count": 135,
   "metadata": {},
   "outputs": [
    {
     "data": {
      "image/png": "[encoded data removed]",
      "text/plain": [
       "<Figure size 432x288 with 1 Axes>"
      ]
     },
     "metadata": {
      "needs_background": "light"
     },
     "output_type": "display_data"
    }
   ],
   "source": [
    "plt.hist(tdm_lt_200,\n",
    "             \n",
    "             bins=int(tdm_lt_200.max()/5), color = 'blue',\n",
    "             edgecolor='white');\n",
    "\n",
    "plt.xticks(ticks=range(0,170,15));"
   ]
  },
  {
   "cell_type": "code",
   "execution_count": 136,
   "metadata": {},
   "outputs": [
    {
     "data": {
      "image/png": "[encoded data removed]",
      "text/plain": [
       "<Figure size 432x288 with 1 Axes>"
      ]
     },
     "metadata": {
      "needs_background": "light"
     },
     "output_type": "display_data"
    }
   ],
   "source": [
    "plt.hist(tdm_workdays_tdm_lt_200,\n",
    "             bins=int(tdm_workdays_tdm_lt_200.max()/5), color = 'blue',\n",
    "             edgecolor='white');\n",
    "plt.xticks(ticks=range(0,170,15));"
   ]
  },
  {
   "cell_type": "code",
   "execution_count": 138,
   "metadata": {},
   "outputs": [
    {
     "data": {
      "image/png": "[encoded data removed]",
      "text/plain": [
       "<Figure size 432x288 with 1 Axes>"
      ]
     },
     "metadata": {
      "needs_background": "light"
     },
     "output_type": "display_data"
    }
   ],
   "source": [
    "plt.hist(tdm_weekends_tdm_lt_200,\n",
    "             bins=int(tdm_weekends_tdm_lt_200.max()/5), color = 'blue',\n",
    "             edgecolor='white');\n",
    "plt.xticks(ticks=range(0,170,15));"
   ]
  },
  {
   "cell_type": "code",
   "execution_count": 139,
   "metadata": {},
   "outputs": [
    {
     "data": {
      "text/plain": [
       "0.00     0.000000\n",
       "0.05    26.649167\n",
       "0.10    28.415000\n",
       "0.15    30.116667\n",
       "0.20    31.980000\n",
       "0.25    33.716667\n",
       "0.30    35.200000\n",
       "0.35    36.894167\n",
       "0.40    38.466667\n",
       "0.45    39.933333\n",
       "0.50    41.466667\n",
       "0.55    43.200000\n",
       "0.60    45.040000\n",
       "0.65    47.250000\n",
       "0.70    49.721667\n",
       "0.75    52.466667\n",
       "0.80    55.983333\n",
       "0.85    60.500000\n",
       "0.90    66.485000\n",
       "0.95    77.150833\n",
       "Name: trip_duration_minutes, dtype: float64"
      ]
     },
     "execution_count": 139,
     "metadata": {},
     "output_type": "execute_result"
    }
   ],
   "source": [
    "tdm_lt_200_q = tdm_lt_200.quantile(np.arange(0,100, 5)/100)\n",
    "tdm_lt_200_q"
   ]
  },
  {
   "cell_type": "code",
   "execution_count": 140,
   "metadata": {},
   "outputs": [
    {
     "data": {
      "text/plain": [
       "0.00     0.000000\n",
       "0.05    27.383333\n",
       "0.10    29.366667\n",
       "0.15    31.810000\n",
       "0.20    33.866667\n",
       "0.25    35.550000\n",
       "0.30    37.383333\n",
       "0.35    39.116667\n",
       "0.40    40.666667\n",
       "0.45    42.183333\n",
       "0.50    43.883333\n",
       "0.55    45.816667\n",
       "0.60    47.856667\n",
       "0.65    50.166667\n",
       "0.70    52.830000\n",
       "0.75    55.933333\n",
       "0.80    59.506667\n",
       "0.85    64.100000\n",
       "0.90    69.920000\n",
       "0.95    80.586667\n",
       "Name: trip_duration_minutes, dtype: float64"
      ]
     },
     "execution_count": 140,
     "metadata": {},
     "output_type": "execute_result"
    }
   ],
   "source": [
    "tdm_workdays_tdm_lt_200_q = tdm_workdays_tdm_lt_200.quantile(np.arange(0,100, 5)/100)\n",
    "tdm_workdays_tdm_lt_200_q"
   ]
  },
  {
   "cell_type": "code",
   "execution_count": 141,
   "metadata": {},
   "outputs": [
    {
     "data": {
      "text/plain": [
       "0.00    20.783333\n",
       "0.05    25.783333\n",
       "0.10    26.916667\n",
       "0.15    27.983333\n",
       "0.20    29.083333\n",
       "0.25    30.141667\n",
       "0.30    31.433333\n",
       "0.35    32.666667\n",
       "0.40    33.693333\n",
       "0.45    34.848333\n",
       "0.50    35.916667\n",
       "0.55    37.328333\n",
       "0.60    38.490000\n",
       "0.65    39.693333\n",
       "0.70    41.313333\n",
       "0.75    43.375000\n",
       "0.80    45.600000\n",
       "0.85    48.483333\n",
       "0.90    51.460000\n",
       "0.95    57.505000\n",
       "Name: trip_duration_minutes, dtype: float64"
      ]
     },
     "execution_count": 141,
     "metadata": {},
     "output_type": "execute_result"
    }
   ],
   "source": [
    "tdm_weekends_tdm_lt_200_q = tdm_weekends_tdm_lt_200.quantile(np.arange(0,100, 5)/100)\n",
    "tdm_weekends_tdm_lt_200_q"
   ]
  },
  {
   "cell_type": "code",
   "execution_count": 142,
   "metadata": {},
   "outputs": [
    {
     "data": {
      "text/plain": [
       "<matplotlib.collections.LineCollection at 0x11db2ce80>"
      ]
     },
     "execution_count": 142,
     "metadata": {},
     "output_type": "execute_result"
    },
    {
     "data": {
      "image/png": "[encoded data removed]",
      "text/plain": [
       "<Figure size 432x288 with 1 Axes>"
      ]
     },
     "metadata": {
      "needs_background": "light"
     },
     "output_type": "display_data"
    }
   ],
   "source": [
    "plt.bar(height=tdm_lt_200_q.index, x=tdm_lt_200_q.values, align='center', width=1.0);\n",
    "plt.hlines(xmin=0, xmax=80, y=.95)\n",
    "plt.hlines(xmin=0, xmax=80, y=.90)\n",
    "plt.hlines(xmin=0, xmax=80, y=.85)"
   ]
  },
  {
   "cell_type": "code",
   "execution_count": 143,
   "metadata": {},
   "outputs": [
    {
     "data": {
      "text/plain": [
       "<matplotlib.collections.LineCollection at 0x126cec240>"
      ]
     },
     "execution_count": 143,
     "metadata": {},
     "output_type": "execute_result"
    },
    {
     "data": {
      "image/png": "[encoded data removed]",
      "text/plain": [
       "<Figure size 432x288 with 1 Axes>"
      ]
     },
     "metadata": {
      "needs_background": "light"
     },
     "output_type": "display_data"
    }
   ],
   "source": [
    "plt.bar(height=tdm_workdays_tdm_lt_200_q.index, x=tdm_lt_200_q.values, align='center', width=1.0);\n",
    "plt.hlines(xmin=0, xmax=80, y=.95)\n",
    "plt.hlines(xmin=0, xmax=80, y=.90)\n",
    "plt.hlines(xmin=0, xmax=80, y=.85)"
   ]
  },
  {
   "cell_type": "code",
   "execution_count": 145,
   "metadata": {},
   "outputs": [
    {
     "data": {
      "text/plain": [
       "<matplotlib.collections.LineCollection at 0x11e9ce630>"
      ]
     },
     "execution_count": 145,
     "metadata": {},
     "output_type": "execute_result"
    },
    {
     "data": {
      "image/png": "[encoded data removed]",
      "text/plain": [
       "<Figure size 432x288 with 1 Axes>"
      ]
     },
     "metadata": {
      "needs_background": "light"
     },
     "output_type": "display_data"
    }
   ],
   "source": [
    "plt.bar(height=tdm_weekends_tdm_lt_200_q.index, x=tdm_weekends_tdm_lt_200_q.values, align='center', width=1.0);\n",
    "plt.hlines(xmin=0, xmax=80, y=.95)\n",
    "plt.hlines(xmin=0, xmax=80, y=.90)\n",
    "plt.hlines(xmin=0, xmax=80, y=.85)"
   ]
  },
  {
   "cell_type": "code",
   "execution_count": 33,
   "metadata": {},
   "outputs": [
    {
     "ename": "AttributeError",
     "evalue": "'str' object has no attribute 'ofrmat'",
     "output_type": "error",
     "traceback": [
      "\u001b[0;31m---------------------------------------------------------------------------\u001b[0m",
      "\u001b[0;31mAttributeError\u001b[0m                            Traceback (most recent call last)",
      "\u001b[0;32m<ipython-input-33-2836722a4e96>\u001b[0m in \u001b[0;36m<module>\u001b[0;34m\u001b[0m\n\u001b[0;32m----> 1\u001b[0;31m \u001b[0mprint\u001b[0m\u001b[0;34m(\u001b[0m\u001b[0;34m\"trip duration longer than 3 hours: {:.2f}%\"\u001b[0m\u001b[0;34m.\u001b[0m\u001b[0mofrmat\u001b[0m\u001b[0;34m(\u001b[0m\u001b[0;36m100\u001b[0m\u001b[0;34m*\u001b[0m\u001b[0;34m(\u001b[0m\u001b[0mdf1\u001b[0m\u001b[0;34m.\u001b[0m\u001b[0mtrip_duration_minutes\u001b[0m \u001b[0;34m>\u001b[0m \u001b[0;36m180\u001b[0m\u001b[0;34m)\u001b[0m\u001b[0;34m.\u001b[0m\u001b[0mmean\u001b[0m\u001b[0;34m(\u001b[0m\u001b[0;34m)\u001b[0m\u001b[0;34m)\u001b[0m\u001b[0;34m)\u001b[0m\u001b[0;34m\u001b[0m\u001b[0;34m\u001b[0m\u001b[0m\n\u001b[0m",
      "\u001b[0;31mAttributeError\u001b[0m: 'str' object has no attribute 'ofrmat'"
     ]
    }
   ],
   "source": [
    "print(\"trip duration longer than 3 hours: {:.2f}%\".ofrmat(100*(df1.trip_duration_minutes > 180).mean()))"
   ]
  },
  {
   "cell_type": "code",
   "execution_count": 2,
   "metadata": {},
   "outputs": [
    {
     "ename": "NameError",
     "evalue": "name 'df1' is not defined",
     "output_type": "error",
     "traceback": [
      "\u001b[0;31m---------------------------------------------------------------------------\u001b[0m",
      "\u001b[0;31mNameError\u001b[0m                                 Traceback (most recent call last)",
      "\u001b[0;32m<ipython-input-2-8fdb5e4e9eab>\u001b[0m in \u001b[0;36m<module>\u001b[0;34m\u001b[0m\n\u001b[1;32m      2\u001b[0m \u001b[0;34m\u001b[0m\u001b[0m\n\u001b[1;32m      3\u001b[0m \u001b[0;34m\u001b[0m\u001b[0m\n\u001b[0;32m----> 4\u001b[0;31m \u001b[0mdf1\u001b[0m\u001b[0;34m.\u001b[0m\u001b[0mgroupby\u001b[0m\u001b[0;34m(\u001b[0m\u001b[0;34m[\u001b[0m\u001b[0;34m'pickup_zone'\u001b[0m\u001b[0;34m]\u001b[0m\u001b[0;34m)\u001b[0m\u001b[0;34m.\u001b[0m\u001b[0msize\u001b[0m\u001b[0;34m(\u001b[0m\u001b[0;34m)\u001b[0m\u001b[0;34m\u001b[0m\u001b[0;34m\u001b[0m\u001b[0m\n\u001b[0m",
      "\u001b[0;31mNameError\u001b[0m: name 'df1' is not defined"
     ]
    }
   ],
   "source": [
    "import matplotlib.pyplot as plt\n",
    "\n",
    "df1.groupby(['pickup_zone']).size()"
   ]
  },
  {
   "cell_type": "code",
   "execution_count": null,
   "metadata": {},
   "outputs": [],
   "source": [
    "trips_to_newark_airport = df[df.dropoff_zone == 'Newark Airport']\n"
   ]
  },
  {
   "cell_type": "code",
   "execution_count": null,
   "metadata": {},
   "outputs": [],
   "source": [
    "count_of_trips_to_ewr_per_pickup_zone = trips_to_newark_airport.groupby(['pickup_zone']).size().sort_values()\n",
    "count_of_trips_to_ewr_per_pickup_zone[count_of_trips_to_ewr_per_pickup_zone > 100]"
   ]
  },
  {
   "cell_type": "markdown",
   "metadata": {},
   "source": [
    "## Correlation with weekday"
   ]
  },
  {
   "cell_type": "markdown",
   "metadata": {},
   "source": [
    "## Correlation with time of year"
   ]
  },
  {
   "cell_type": "markdown",
   "metadata": {},
   "source": [
    "## Correlation with time of day"
   ]
  },
  {
   "cell_type": "markdown",
   "metadata": {},
   "source": []
  }
 ],
 "metadata": {
  "kernelspec": {
   "display_name": "Python 3",
   "language": "python",
   "name": "python3"
  },
  "language_info": {
   "codemirror_mode": {
    "name": "ipython",
    "version": 3
   },
   "file_extension": ".py",
   "mimetype": "text/x-python",
   "name": "python",
   "nbconvert_exporter": "python",
   "pygments_lexer": "ipython3",
   "version": "3.7.1"
  }
 },
 "nbformat": 4,
 "nbformat_minor": 2
}
