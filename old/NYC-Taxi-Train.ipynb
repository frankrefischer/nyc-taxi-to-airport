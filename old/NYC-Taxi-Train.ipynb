{
 "cells": [
  {
   "cell_type": "code",
   "execution_count": 91,
   "metadata": {},
   "outputs": [],
   "source": [
    "import pandas as pd\n",
    "import numpy as np\n",
    "import time\n",
    "from sklearn.model_selection import train_test_split\n",
    "from sklearn.ensemble import RandomForestRegressor\n",
    "from sklearn.metrics import mean_absolute_error\n",
    "import multiprocessing\n",
    "import matplotlib.pyplot as plt\n",
    "%config InlineBackend.figure_format = 'retina'"
   ]
  },
  {
   "cell_type": "code",
   "execution_count": 4,
   "metadata": {},
   "outputs": [
    {
     "name": "stdout",
     "output_type": "stream",
     "text": [
      "CPU times: user 453 ms, sys: 172 ms, total: 625 ms\n",
      "Wall time: 628 ms\n"
     ]
    }
   ],
   "source": [
    "def load_expanded():\n",
    "    return pd.read_pickle('nyc-2017-yellow-taxi-trips-to-airport-expanded.pkl.gz')\n",
    "\n",
    "%time df_exp = load_expanded()"
   ]
  },
  {
   "cell_type": "code",
   "execution_count": 5,
   "metadata": {},
   "outputs": [
    {
     "name": "stdout",
     "output_type": "stream",
     "text": [
      "<class 'pandas.core.frame.DataFrame'>\n",
      "Int64Index: 2509468 entries, 14 to 113496861\n",
      "Data columns (total 12 columns):\n",
      "pickup_datetime          datetime64[ns]\n",
      "dropoff_datetime         datetime64[ns]\n",
      "pickup_borough           category\n",
      "pickup_zone              category\n",
      "pickup_service_zone      category\n",
      "dropoff_zone             category\n",
      "dropoff_month            category\n",
      "drop_off_week_of_year    category\n",
      "dropoff_day_of_year      category\n",
      "dropoff_day_of_month     category\n",
      "dropoff_hour             category\n",
      "trip_duration_minutes    float64\n",
      "dtypes: category(9), datetime64[ns](2), float64(1)\n",
      "memory usage: 102.9 MB\n"
     ]
    }
   ],
   "source": [
    "df_exp.info(memory_usage='deep')"
   ]
  },
  {
   "cell_type": "code",
   "execution_count": 6,
   "metadata": {},
   "outputs": [
    {
     "name": "stdout",
     "output_type": "stream",
     "text": [
      "CPU times: user 4.03 s, sys: 2.88 s, total: 6.91 s\n",
      "Wall time: 6.91 s\n"
     ]
    }
   ],
   "source": [
    "def load_one_hot_encoded():\n",
    "        return pd.read_pickle('nyc-2017-yellow-taxi-trips-to-airport-one-hot-encoded.pkl.gz')\n",
    "\n",
    "%time df_ohe = load_one_hot_encoded()"
   ]
  },
  {
   "cell_type": "code",
   "execution_count": 7,
   "metadata": {},
   "outputs": [
    {
     "name": "stdout",
     "output_type": "stream",
     "text": [
      "<class 'pandas.core.frame.DataFrame'>\n",
      "Int64Index: 2509468 entries, 14 to 113496861\n",
      "Columns: 744 entries, pickup_borough_Bronx to dropoff_hour_23\n",
      "dtypes: uint8(744)\n",
      "memory usage: 1.8 GB\n"
     ]
    }
   ],
   "source": [
    "df_ohe.info(memory_usage='deep')"
   ]
  },
  {
   "cell_type": "code",
   "execution_count": 8,
   "metadata": {},
   "outputs": [],
   "source": [
    "df = pd.concat([df_exp, df_ohe], axis=1)"
   ]
  },
  {
   "cell_type": "code",
   "execution_count": 9,
   "metadata": {},
   "outputs": [
    {
     "data": {
      "text/html": [
       "<div>\n",
       "<style scoped>\n",
       "    .dataframe tbody tr th:only-of-type {\n",
       "        vertical-align: middle;\n",
       "    }\n",
       "\n",
       "    .dataframe tbody tr th {\n",
       "        vertical-align: top;\n",
       "    }\n",
       "\n",
       "    .dataframe thead th {\n",
       "        text-align: right;\n",
       "    }\n",
       "</style>\n",
       "<table border=\"1\" class=\"dataframe\">\n",
       "  <thead>\n",
       "    <tr style=\"text-align: right;\">\n",
       "      <th></th>\n",
       "      <th>pickup_datetime</th>\n",
       "      <th>dropoff_datetime</th>\n",
       "      <th>pickup_borough</th>\n",
       "      <th>pickup_zone</th>\n",
       "      <th>pickup_service_zone</th>\n",
       "      <th>dropoff_zone</th>\n",
       "      <th>dropoff_month</th>\n",
       "      <th>drop_off_week_of_year</th>\n",
       "      <th>dropoff_day_of_year</th>\n",
       "      <th>dropoff_day_of_month</th>\n",
       "      <th>...</th>\n",
       "      <th>dropoff_hour_14</th>\n",
       "      <th>dropoff_hour_15</th>\n",
       "      <th>dropoff_hour_16</th>\n",
       "      <th>dropoff_hour_17</th>\n",
       "      <th>dropoff_hour_18</th>\n",
       "      <th>dropoff_hour_19</th>\n",
       "      <th>dropoff_hour_20</th>\n",
       "      <th>dropoff_hour_21</th>\n",
       "      <th>dropoff_hour_22</th>\n",
       "      <th>dropoff_hour_23</th>\n",
       "    </tr>\n",
       "  </thead>\n",
       "  <tbody>\n",
       "    <tr>\n",
       "      <th>14</th>\n",
       "      <td>2017-03-28 14:56:33</td>\n",
       "      <td>2017-03-28 16:14:19</td>\n",
       "      <td>Manhattan</td>\n",
       "      <td>Greenwich Village North</td>\n",
       "      <td>Yellow Zone</td>\n",
       "      <td>JFK Airport</td>\n",
       "      <td>3</td>\n",
       "      <td>13</td>\n",
       "      <td>87</td>\n",
       "      <td>28</td>\n",
       "      <td>...</td>\n",
       "      <td>0</td>\n",
       "      <td>0</td>\n",
       "      <td>1</td>\n",
       "      <td>0</td>\n",
       "      <td>0</td>\n",
       "      <td>0</td>\n",
       "      <td>0</td>\n",
       "      <td>0</td>\n",
       "      <td>0</td>\n",
       "      <td>0</td>\n",
       "    </tr>\n",
       "    <tr>\n",
       "      <th>18</th>\n",
       "      <td>2017-03-28 14:56:35</td>\n",
       "      <td>2017-03-28 15:50:06</td>\n",
       "      <td>Manhattan</td>\n",
       "      <td>Lenox Hill West</td>\n",
       "      <td>Yellow Zone</td>\n",
       "      <td>JFK Airport</td>\n",
       "      <td>3</td>\n",
       "      <td>13</td>\n",
       "      <td>87</td>\n",
       "      <td>28</td>\n",
       "      <td>...</td>\n",
       "      <td>0</td>\n",
       "      <td>1</td>\n",
       "      <td>0</td>\n",
       "      <td>0</td>\n",
       "      <td>0</td>\n",
       "      <td>0</td>\n",
       "      <td>0</td>\n",
       "      <td>0</td>\n",
       "      <td>0</td>\n",
       "      <td>0</td>\n",
       "    </tr>\n",
       "    <tr>\n",
       "      <th>63</th>\n",
       "      <td>2017-03-28 14:56:45</td>\n",
       "      <td>2017-03-28 15:35:29</td>\n",
       "      <td>Manhattan</td>\n",
       "      <td>Central Park</td>\n",
       "      <td>Yellow Zone</td>\n",
       "      <td>LaGuardia Airport</td>\n",
       "      <td>3</td>\n",
       "      <td>13</td>\n",
       "      <td>87</td>\n",
       "      <td>28</td>\n",
       "      <td>...</td>\n",
       "      <td>0</td>\n",
       "      <td>1</td>\n",
       "      <td>0</td>\n",
       "      <td>0</td>\n",
       "      <td>0</td>\n",
       "      <td>0</td>\n",
       "      <td>0</td>\n",
       "      <td>0</td>\n",
       "      <td>0</td>\n",
       "      <td>0</td>\n",
       "    </tr>\n",
       "    <tr>\n",
       "      <th>128</th>\n",
       "      <td>2017-03-28 14:57:00</td>\n",
       "      <td>2017-03-28 15:27:54</td>\n",
       "      <td>Manhattan</td>\n",
       "      <td>Garment District</td>\n",
       "      <td>Yellow Zone</td>\n",
       "      <td>LaGuardia Airport</td>\n",
       "      <td>3</td>\n",
       "      <td>13</td>\n",
       "      <td>87</td>\n",
       "      <td>28</td>\n",
       "      <td>...</td>\n",
       "      <td>0</td>\n",
       "      <td>1</td>\n",
       "      <td>0</td>\n",
       "      <td>0</td>\n",
       "      <td>0</td>\n",
       "      <td>0</td>\n",
       "      <td>0</td>\n",
       "      <td>0</td>\n",
       "      <td>0</td>\n",
       "      <td>0</td>\n",
       "    </tr>\n",
       "    <tr>\n",
       "      <th>140</th>\n",
       "      <td>2017-03-28 14:57:04</td>\n",
       "      <td>2017-03-28 15:45:30</td>\n",
       "      <td>Manhattan</td>\n",
       "      <td>Murray Hill</td>\n",
       "      <td>Yellow Zone</td>\n",
       "      <td>JFK Airport</td>\n",
       "      <td>3</td>\n",
       "      <td>13</td>\n",
       "      <td>87</td>\n",
       "      <td>28</td>\n",
       "      <td>...</td>\n",
       "      <td>0</td>\n",
       "      <td>1</td>\n",
       "      <td>0</td>\n",
       "      <td>0</td>\n",
       "      <td>0</td>\n",
       "      <td>0</td>\n",
       "      <td>0</td>\n",
       "      <td>0</td>\n",
       "      <td>0</td>\n",
       "      <td>0</td>\n",
       "    </tr>\n",
       "  </tbody>\n",
       "</table>\n",
       "<p>5 rows × 756 columns</p>\n",
       "</div>"
      ],
      "text/plain": [
       "        pickup_datetime    dropoff_datetime pickup_borough  \\\n",
       "14  2017-03-28 14:56:33 2017-03-28 16:14:19      Manhattan   \n",
       "18  2017-03-28 14:56:35 2017-03-28 15:50:06      Manhattan   \n",
       "63  2017-03-28 14:56:45 2017-03-28 15:35:29      Manhattan   \n",
       "128 2017-03-28 14:57:00 2017-03-28 15:27:54      Manhattan   \n",
       "140 2017-03-28 14:57:04 2017-03-28 15:45:30      Manhattan   \n",
       "\n",
       "                 pickup_zone pickup_service_zone       dropoff_zone  \\\n",
       "14   Greenwich Village North         Yellow Zone        JFK Airport   \n",
       "18           Lenox Hill West         Yellow Zone        JFK Airport   \n",
       "63              Central Park         Yellow Zone  LaGuardia Airport   \n",
       "128         Garment District         Yellow Zone  LaGuardia Airport   \n",
       "140              Murray Hill         Yellow Zone        JFK Airport   \n",
       "\n",
       "    dropoff_month drop_off_week_of_year dropoff_day_of_year  \\\n",
       "14              3                    13                  87   \n",
       "18              3                    13                  87   \n",
       "63              3                    13                  87   \n",
       "128             3                    13                  87   \n",
       "140             3                    13                  87   \n",
       "\n",
       "    dropoff_day_of_month       ...        dropoff_hour_14  dropoff_hour_15  \\\n",
       "14                    28       ...                      0                0   \n",
       "18                    28       ...                      0                1   \n",
       "63                    28       ...                      0                1   \n",
       "128                   28       ...                      0                1   \n",
       "140                   28       ...                      0                1   \n",
       "\n",
       "     dropoff_hour_16  dropoff_hour_17  dropoff_hour_18  dropoff_hour_19  \\\n",
       "14                 1                0                0                0   \n",
       "18                 0                0                0                0   \n",
       "63                 0                0                0                0   \n",
       "128                0                0                0                0   \n",
       "140                0                0                0                0   \n",
       "\n",
       "     dropoff_hour_20  dropoff_hour_21  dropoff_hour_22  dropoff_hour_23  \n",
       "14                 0                0                0                0  \n",
       "18                 0                0                0                0  \n",
       "63                 0                0                0                0  \n",
       "128                0                0                0                0  \n",
       "140                0                0                0                0  \n",
       "\n",
       "[5 rows x 756 columns]"
      ]
     },
     "execution_count": 9,
     "metadata": {},
     "output_type": "execute_result"
    }
   ],
   "source": [
    "df.head()"
   ]
  },
  {
   "cell_type": "code",
   "execution_count": 21,
   "metadata": {},
   "outputs": [
    {
     "data": {
      "text/plain": [
       "(2509468, 756)"
      ]
     },
     "execution_count": 21,
     "metadata": {},
     "output_type": "execute_result"
    }
   ],
   "source": [
    "df.shape"
   ]
  },
  {
   "cell_type": "code",
   "execution_count": 20,
   "metadata": {},
   "outputs": [
    {
     "data": {
      "text/plain": [
       "['pickup_zone_Allerton/Pelham Gardens',\n",
       " 'pickup_zone_Alphabet City',\n",
       " 'pickup_zone_Arden Heights',\n",
       " 'pickup_zone_Arrochar/Fort Wadsworth',\n",
       " 'pickup_zone_Astoria',\n",
       " 'pickup_zone_Astoria Park',\n",
       " 'pickup_zone_Auburndale',\n",
       " 'pickup_zone_Baisley Park',\n",
       " 'pickup_zone_Bath Beach',\n",
       " 'pickup_zone_Battery Park',\n",
       " 'pickup_zone_Battery Park City',\n",
       " 'pickup_zone_Bay Ridge',\n",
       " 'pickup_zone_Bay Terrace/Fort Totten',\n",
       " 'pickup_zone_Bayside',\n",
       " 'pickup_zone_Bedford',\n",
       " 'pickup_zone_Bedford Park',\n",
       " 'pickup_zone_Bellerose',\n",
       " 'pickup_zone_Belmont',\n",
       " 'pickup_zone_Bensonhurst East',\n",
       " 'pickup_zone_Bensonhurst West',\n",
       " 'pickup_zone_Bloomfield/Emerson Hill',\n",
       " 'pickup_zone_Bloomingdale',\n",
       " 'pickup_zone_Boerum Hill',\n",
       " 'pickup_zone_Borough Park',\n",
       " 'pickup_zone_Briarwood/Jamaica Hills',\n",
       " 'pickup_zone_Brighton Beach',\n",
       " 'pickup_zone_Broad Channel',\n",
       " 'pickup_zone_Bronx Park',\n",
       " 'pickup_zone_Bronxdale',\n",
       " 'pickup_zone_Brooklyn Heights',\n",
       " 'pickup_zone_Brooklyn Navy Yard',\n",
       " 'pickup_zone_Brownsville',\n",
       " 'pickup_zone_Bushwick North',\n",
       " 'pickup_zone_Bushwick South',\n",
       " 'pickup_zone_Cambria Heights',\n",
       " 'pickup_zone_Canarsie',\n",
       " 'pickup_zone_Carroll Gardens',\n",
       " 'pickup_zone_Central Harlem',\n",
       " 'pickup_zone_Central Harlem North',\n",
       " 'pickup_zone_Central Park',\n",
       " 'pickup_zone_Chinatown',\n",
       " 'pickup_zone_Claremont/Bathgate',\n",
       " 'pickup_zone_Clinton East',\n",
       " 'pickup_zone_Clinton Hill',\n",
       " 'pickup_zone_Clinton West',\n",
       " 'pickup_zone_Co-Op City',\n",
       " 'pickup_zone_Cobble Hill',\n",
       " 'pickup_zone_College Point',\n",
       " 'pickup_zone_Columbia Street',\n",
       " 'pickup_zone_Coney Island',\n",
       " 'pickup_zone_Corona',\n",
       " 'pickup_zone_Crotona Park East',\n",
       " 'pickup_zone_Crown Heights North',\n",
       " 'pickup_zone_Crown Heights South',\n",
       " 'pickup_zone_Cypress Hills',\n",
       " 'pickup_zone_DUMBO/Vinegar Hill',\n",
       " 'pickup_zone_Douglaston',\n",
       " 'pickup_zone_Downtown Brooklyn/MetroTech',\n",
       " 'pickup_zone_Dyker Heights',\n",
       " 'pickup_zone_East Chelsea',\n",
       " 'pickup_zone_East Concourse/Concourse Village',\n",
       " 'pickup_zone_East Elmhurst',\n",
       " 'pickup_zone_East Flatbush/Farragut',\n",
       " 'pickup_zone_East Flatbush/Remsen Village',\n",
       " 'pickup_zone_East Flushing',\n",
       " 'pickup_zone_East Harlem North',\n",
       " 'pickup_zone_East Harlem South',\n",
       " 'pickup_zone_East New York',\n",
       " 'pickup_zone_East New York/Pennsylvania Avenue',\n",
       " 'pickup_zone_East Tremont',\n",
       " 'pickup_zone_East Village',\n",
       " 'pickup_zone_East Williamsburg',\n",
       " 'pickup_zone_Eastchester',\n",
       " 'pickup_zone_Elmhurst',\n",
       " 'pickup_zone_Elmhurst/Maspeth',\n",
       " \"pickup_zone_Eltingville/Annadale/Prince's Bay\",\n",
       " 'pickup_zone_Erasmus',\n",
       " 'pickup_zone_Far Rockaway',\n",
       " 'pickup_zone_Financial District North',\n",
       " 'pickup_zone_Financial District South',\n",
       " 'pickup_zone_Flatbush/Ditmas Park',\n",
       " 'pickup_zone_Flatiron',\n",
       " 'pickup_zone_Flatlands',\n",
       " 'pickup_zone_Flushing',\n",
       " 'pickup_zone_Flushing Meadows-Corona Park',\n",
       " 'pickup_zone_Fordham South',\n",
       " 'pickup_zone_Forest Hills',\n",
       " 'pickup_zone_Forest Park/Highland Park',\n",
       " 'pickup_zone_Fort Greene',\n",
       " 'pickup_zone_Fresh Meadows',\n",
       " 'pickup_zone_Garment District',\n",
       " 'pickup_zone_Glen Oaks',\n",
       " 'pickup_zone_Glendale',\n",
       " \"pickup_zone_Governor's Island/Ellis Island/Liberty Island\",\n",
       " 'pickup_zone_Gowanus',\n",
       " 'pickup_zone_Gramercy',\n",
       " 'pickup_zone_Gravesend',\n",
       " 'pickup_zone_Great Kills',\n",
       " 'pickup_zone_Green-Wood Cemetery',\n",
       " 'pickup_zone_Greenpoint',\n",
       " 'pickup_zone_Greenwich Village North',\n",
       " 'pickup_zone_Greenwich Village South',\n",
       " 'pickup_zone_Grymes Hill/Clifton',\n",
       " 'pickup_zone_Hamilton Heights',\n",
       " 'pickup_zone_Hammels/Arverne',\n",
       " 'pickup_zone_Highbridge',\n",
       " 'pickup_zone_Highbridge Park',\n",
       " 'pickup_zone_Hillcrest/Pomonok',\n",
       " 'pickup_zone_Hollis',\n",
       " 'pickup_zone_Homecrest',\n",
       " 'pickup_zone_Howard Beach',\n",
       " 'pickup_zone_Hudson Sq',\n",
       " 'pickup_zone_Hunts Point',\n",
       " 'pickup_zone_Inwood',\n",
       " 'pickup_zone_Inwood Hill Park',\n",
       " 'pickup_zone_JFK Airport',\n",
       " 'pickup_zone_Jackson Heights',\n",
       " 'pickup_zone_Jamaica',\n",
       " 'pickup_zone_Jamaica Bay',\n",
       " 'pickup_zone_Jamaica Estates',\n",
       " 'pickup_zone_Kensington',\n",
       " 'pickup_zone_Kew Gardens',\n",
       " 'pickup_zone_Kew Gardens Hills',\n",
       " 'pickup_zone_Kingsbridge Heights',\n",
       " 'pickup_zone_Kips Bay',\n",
       " 'pickup_zone_LaGuardia Airport',\n",
       " 'pickup_zone_Laurelton',\n",
       " 'pickup_zone_Lenox Hill East',\n",
       " 'pickup_zone_Lenox Hill West',\n",
       " 'pickup_zone_Lincoln Square East',\n",
       " 'pickup_zone_Lincoln Square West',\n",
       " 'pickup_zone_Little Italy/NoLiTa',\n",
       " 'pickup_zone_Long Island City/Hunters Point',\n",
       " 'pickup_zone_Long Island City/Queens Plaza',\n",
       " 'pickup_zone_Longwood',\n",
       " 'pickup_zone_Lower East Side',\n",
       " 'pickup_zone_Madison',\n",
       " 'pickup_zone_Manhattan Beach',\n",
       " 'pickup_zone_Manhattan Valley',\n",
       " 'pickup_zone_Manhattanville',\n",
       " 'pickup_zone_Marble Hill',\n",
       " 'pickup_zone_Marine Park/Floyd Bennett Field',\n",
       " 'pickup_zone_Marine Park/Mill Basin',\n",
       " 'pickup_zone_Mariners Harbor',\n",
       " 'pickup_zone_Maspeth',\n",
       " 'pickup_zone_Meatpacking/West Village West',\n",
       " 'pickup_zone_Melrose South',\n",
       " 'pickup_zone_Middle Village',\n",
       " 'pickup_zone_Midtown Center',\n",
       " 'pickup_zone_Midtown East',\n",
       " 'pickup_zone_Midtown North',\n",
       " 'pickup_zone_Midtown South',\n",
       " 'pickup_zone_Midwood',\n",
       " 'pickup_zone_Morningside Heights',\n",
       " 'pickup_zone_Morrisania/Melrose',\n",
       " 'pickup_zone_Mott Haven/Port Morris',\n",
       " 'pickup_zone_Mount Hope',\n",
       " 'pickup_zone_Murray Hill',\n",
       " 'pickup_zone_Murray Hill-Queens',\n",
       " 'pickup_zone_New Dorp/Midland Beach',\n",
       " 'pickup_zone_Newark Airport',\n",
       " 'pickup_zone_North Corona',\n",
       " 'pickup_zone_Norwood',\n",
       " 'pickup_zone_Oakland Gardens',\n",
       " 'pickup_zone_Ocean Hill',\n",
       " 'pickup_zone_Ocean Parkway South',\n",
       " 'pickup_zone_Old Astoria',\n",
       " 'pickup_zone_Ozone Park',\n",
       " 'pickup_zone_Park Slope',\n",
       " 'pickup_zone_Parkchester',\n",
       " 'pickup_zone_Pelham Bay',\n",
       " 'pickup_zone_Pelham Bay Park',\n",
       " 'pickup_zone_Pelham Parkway',\n",
       " 'pickup_zone_Penn Station/Madison Sq West',\n",
       " 'pickup_zone_Prospect Heights',\n",
       " 'pickup_zone_Prospect Park',\n",
       " 'pickup_zone_Prospect-Lefferts Gardens',\n",
       " 'pickup_zone_Queens Village',\n",
       " 'pickup_zone_Queensboro Hill',\n",
       " 'pickup_zone_Queensbridge/Ravenswood',\n",
       " 'pickup_zone_Randalls Island',\n",
       " 'pickup_zone_Red Hook',\n",
       " 'pickup_zone_Rego Park',\n",
       " 'pickup_zone_Richmond Hill',\n",
       " 'pickup_zone_Ridgewood',\n",
       " 'pickup_zone_Rikers Island',\n",
       " 'pickup_zone_Riverdale/North Riverdale/Fieldston',\n",
       " 'pickup_zone_Rockaway Park',\n",
       " 'pickup_zone_Roosevelt Island',\n",
       " 'pickup_zone_Rosedale',\n",
       " 'pickup_zone_Saint Albans',\n",
       " 'pickup_zone_Saint George/New Brighton',\n",
       " 'pickup_zone_Saint Michaels Cemetery/Woodside',\n",
       " 'pickup_zone_Schuylerville/Edgewater Park',\n",
       " 'pickup_zone_Seaport',\n",
       " 'pickup_zone_Sheepshead Bay',\n",
       " 'pickup_zone_SoHo',\n",
       " 'pickup_zone_Soundview/Bruckner',\n",
       " 'pickup_zone_Soundview/Castle Hill',\n",
       " 'pickup_zone_South Beach/Dongan Hills',\n",
       " 'pickup_zone_South Jamaica',\n",
       " 'pickup_zone_South Ozone Park',\n",
       " 'pickup_zone_South Williamsburg',\n",
       " 'pickup_zone_Springfield Gardens North',\n",
       " 'pickup_zone_Springfield Gardens South',\n",
       " 'pickup_zone_Spuyten Duyvil/Kingsbridge',\n",
       " 'pickup_zone_Stapleton',\n",
       " 'pickup_zone_Starrett City',\n",
       " 'pickup_zone_Steinway',\n",
       " 'pickup_zone_Stuy Town/Peter Cooper Village',\n",
       " 'pickup_zone_Stuyvesant Heights',\n",
       " 'pickup_zone_Sunnyside',\n",
       " 'pickup_zone_Sunset Park East',\n",
       " 'pickup_zone_Sunset Park West',\n",
       " 'pickup_zone_Sutton Place/Turtle Bay North',\n",
       " 'pickup_zone_Times Sq/Theatre District',\n",
       " 'pickup_zone_TriBeCa/Civic Center',\n",
       " 'pickup_zone_Two Bridges/Seward Park',\n",
       " 'pickup_zone_UN/Turtle Bay South',\n",
       " 'pickup_zone_Union Sq',\n",
       " 'pickup_zone_University Heights/Morris Heights',\n",
       " 'pickup_zone_Upper East Side North',\n",
       " 'pickup_zone_Upper East Side South',\n",
       " 'pickup_zone_Upper West Side North',\n",
       " 'pickup_zone_Upper West Side South',\n",
       " 'pickup_zone_Van Cortlandt Park',\n",
       " 'pickup_zone_Van Cortlandt Village',\n",
       " 'pickup_zone_Van Nest/Morris Park',\n",
       " 'pickup_zone_Washington Heights North',\n",
       " 'pickup_zone_Washington Heights South',\n",
       " 'pickup_zone_West Brighton',\n",
       " 'pickup_zone_West Chelsea/Hudson Yards',\n",
       " 'pickup_zone_West Concourse',\n",
       " 'pickup_zone_West Farms/Bronx River',\n",
       " 'pickup_zone_West Village',\n",
       " 'pickup_zone_Westchester Village/Unionport',\n",
       " 'pickup_zone_Westerleigh',\n",
       " 'pickup_zone_Whitestone',\n",
       " 'pickup_zone_Willets Point',\n",
       " 'pickup_zone_Williamsbridge/Olinville',\n",
       " 'pickup_zone_Williamsburg (North Side)',\n",
       " 'pickup_zone_Williamsburg (South Side)',\n",
       " 'pickup_zone_Windsor Terrace',\n",
       " 'pickup_zone_Woodhaven',\n",
       " 'pickup_zone_Woodlawn/Wakefield',\n",
       " 'pickup_zone_Woodside',\n",
       " 'pickup_zone_World Trade Center',\n",
       " 'pickup_zone_Yorkville East',\n",
       " 'pickup_zone_Yorkville West']"
      ]
     },
     "execution_count": 20,
     "metadata": {},
     "output_type": "execute_result"
    }
   ],
   "source": [
    "[c for c in df.columns if c.startswith('pickup_zone_')]"
   ]
  },
  {
   "cell_type": "markdown",
   "metadata": {},
   "source": [
    "# Random Forest Regressor"
   ]
  },
  {
   "cell_type": "code",
   "execution_count": 137,
   "metadata": {},
   "outputs": [
    {
     "name": "stdout",
     "output_type": "stream",
     "text": [
      "CPU times: user 8.59 s, sys: 10.4 s, total: 19 s\n",
      "Wall time: 8.39 s\n"
     ]
    }
   ],
   "source": [
    "%time dfs = df.reindex(np.random.permutation(df.index))"
   ]
  },
  {
   "cell_type": "code",
   "execution_count": 138,
   "metadata": {},
   "outputs": [],
   "source": [
    "def make_dfx_dfy(df):\n",
    "    dfx = df.drop(columns=['pickup_datetime', 'dropoff_datetime',\n",
    "                         'pickup_borough', 'pickup_zone', 'pickup_service_zone', 'dropoff_zone',\n",
    "                         'dropoff_month', 'drop_off_week_of_year', 'dropoff_day_of_year',\n",
    "                         'dropoff_day_of_month', 'dropoff_hour',\n",
    "                        'trip_duration_minutes'])\n",
    "    dfy = df.trip_duration_minutes\n",
    "    return dfx,dfy"
   ]
  },
  {
   "cell_type": "code",
   "execution_count": 139,
   "metadata": {},
   "outputs": [],
   "source": [
    "df1 = df#.query('pickup_zone == \"Murray Hill\" and dropoff_zone == \"Newark Airport\"')"
   ]
  },
  {
   "cell_type": "code",
   "execution_count": 140,
   "metadata": {},
   "outputs": [
    {
     "data": {
      "text/plain": [
       "(2509468, 756)"
      ]
     },
     "execution_count": 140,
     "metadata": {},
     "output_type": "execute_result"
    }
   ],
   "source": [
    "df1.shape"
   ]
  },
  {
   "cell_type": "code",
   "execution_count": 141,
   "metadata": {},
   "outputs": [],
   "source": [
    "dfx,dfy = make_dfx_dfy(df1)"
   ]
  },
  {
   "cell_type": "code",
   "execution_count": 48,
   "metadata": {},
   "outputs": [
    {
     "data": {
      "text/plain": [
       "Index(['pickup_borough_Bronx', 'pickup_borough_Brooklyn', 'pickup_borough_EWR',\n",
       "       'pickup_borough_Manhattan', 'pickup_borough_Queens',\n",
       "       'pickup_borough_Staten Island', 'pickup_zone_Allerton/Pelham Gardens',\n",
       "       'pickup_zone_Alphabet City', 'pickup_zone_Arden Heights',\n",
       "       'pickup_zone_Arrochar/Fort Wadsworth',\n",
       "       ...\n",
       "       'dropoff_hour_14', 'dropoff_hour_15', 'dropoff_hour_16',\n",
       "       'dropoff_hour_17', 'dropoff_hour_18', 'dropoff_hour_19',\n",
       "       'dropoff_hour_20', 'dropoff_hour_21', 'dropoff_hour_22',\n",
       "       'dropoff_hour_23'],\n",
       "      dtype='object', length=744)"
      ]
     },
     "execution_count": 48,
     "metadata": {},
     "output_type": "execute_result"
    }
   ],
   "source": [
    "[c for c in dfx.columns if c.startswith('drop')"
   ]
  },
  {
   "cell_type": "code",
   "execution_count": 142,
   "metadata": {},
   "outputs": [],
   "source": [
    "X,y = dfx, dfy"
   ]
  },
  {
   "cell_type": "code",
   "execution_count": 143,
   "metadata": {},
   "outputs": [
    {
     "data": {
      "text/plain": [
       "((2509468, 744), (2509468,))"
      ]
     },
     "execution_count": 143,
     "metadata": {},
     "output_type": "execute_result"
    }
   ],
   "source": [
    "dfx.shape, dfy.shape"
   ]
  },
  {
   "cell_type": "code",
   "execution_count": 144,
   "metadata": {},
   "outputs": [],
   "source": [
    "X_train, X_test, y_train, y_test = train_test_split(X, y, test_size=.4, random_state=0)"
   ]
  },
  {
   "cell_type": "code",
   "execution_count": 64,
   "metadata": {},
   "outputs": [],
   "source": [
    "sample_frac = 0.001"
   ]
  },
  {
   "cell_type": "code",
   "execution_count": 70,
   "metadata": {},
   "outputs": [],
   "source": [
    "def make_model(n_ests, n_jobs=-1):\n",
    "    return {\n",
    "        'forest': RandomForestRegressor(n_estimators=n_ests, bootstrap=True, criterion='mse', random_state=0, n_jobs=n_jobs),\n",
    "        'n_estimators': n_ests,\n",
    "    } \n",
    "\n",
    "def train_model(m, X_train, y_train, sample_frac):\n",
    "    if sample_frac < 1.0:\n",
    "        sample_max_index = int(X.shape[0] * sample_frac)\n",
    "        m['sample'] = { 'frac': sample_frac, 'max_index': sample_max_index }\n",
    "        m['forest'].fit(X_train[:sample_max_index], y_train[:sample_max_index])\n",
    "    else:\n",
    "        m['forest'].fit(X_train, y_train)\n",
    "    return m\n",
    "\n",
    "def score_model(m, X_train, X_test, y_train, y_test):\n",
    "    y_train_pred = m['forest'].predict(X_train)\n",
    "    y_test_pred = m['forest'].predict(X_test)\n",
    "    m['score'] = {\n",
    "        'mean_absolute_error': {\n",
    "            'train': mean_absolute_error(y_train, y_train_pred),\n",
    "            'test': mean_absolute_error(y_test, y_test_pred),\n",
    "        } \n",
    "    }\n",
    "    return m\n",
    "\n",
    "def model_name(m):\n",
    "    return 'forest-ests-{}'.format(m['n_estimators'])\n",
    "\n",
    "def do_model(n, X_train, X_test, y_train, y_test, sample_frac=1):\n",
    "    m = make_model(n_ests=n)\n",
    "    m = train_model(m, X_train, y_train, sample_frac)\n",
    "    m = score_model(m, X_train, X_test, y_train, y_test)\n",
    "    \n",
    "    file_name = model_name(m) + '.pickle.gz'\n",
    "    pd.to_pickle(m, file_name)\n",
    "    \n",
    "    return m\n",
    " "
   ]
  },
  {
   "cell_type": "code",
   "execution_count": 77,
   "metadata": {},
   "outputs": [
    {
     "data": {
      "text/plain": [
       "18.62056737800137"
      ]
     },
     "execution_count": 77,
     "metadata": {},
     "output_type": "execute_result"
    }
   ],
   "source": [
    "mae_baseline = np.mean(np.abs(y - y.mean()))\n",
    "mae_baseline"
   ]
  },
  {
   "cell_type": "code",
   "execution_count": 146,
   "metadata": {},
   "outputs": [
    {
     "data": {
      "text/plain": [
       "<BarContainer object of 743 artists>"
      ]
     },
     "execution_count": 146,
     "metadata": {},
     "output_type": "execute_result"
    },
    {
     "data": {
      "image/png": "[encoded data removed]",
      "text/plain": [
       "<Figure size 432x288 with 1 Axes>"
      ]
     },
     "metadata": {
      "image/png": {
       "height": 250,
       "width": 373
      },
      "needs_background": "light"
     },
     "output_type": "display_data"
    }
   ],
   "source": [
    "from sklearn.decomposition import PCA\n",
    "pca = PCA()\n",
    "pca.fit(X_train)\n",
    "components = pd.DataFrame(pca.transform(X_train))\n",
    "x_axis = np.arange(1, pca.n_components_ + 1)\n",
    "plt.bar(x_axis[:-1], pca.explained_variance_ratio_.cumsum()[:-1])"
   ]
  },
  {
   "cell_type": "code",
   "execution_count": 136,
   "metadata": {},
   "outputs": [
    {
     "data": {
      "text/plain": [
       "(dropoff_month_5            -0.243319\n",
       " dropoff_month_10           -0.224218\n",
       " dropoff_month_12           -0.071680\n",
       " drop_off_week_of_year_18   -0.064960\n",
       " drop_off_week_of_year_21   -0.061273\n",
       " drop_off_week_of_year_42   -0.060073\n",
       " dropoff_month_3            -0.059956\n",
       " drop_off_week_of_year_20   -0.058389\n",
       " dropoff_month_9            -0.054681\n",
       " drop_off_week_of_year_43   -0.051912\n",
       " Name: 0, dtype: float64, dropoff_day_of_year_180     0.044352\n",
       " dropoff_day_of_year_159     0.044943\n",
       " dropoff_day_of_year_176     0.047338\n",
       " dropoff_hour_15             0.063749\n",
       " drop_off_week_of_year_22    0.078345\n",
       " drop_off_week_of_year_26    0.146219\n",
       " drop_off_week_of_year_24    0.151398\n",
       " drop_off_week_of_year_25    0.206841\n",
       " drop_off_week_of_year_23    0.221005\n",
       " dropoff_month_6             0.809696\n",
       " Name: 0, dtype: float64)"
      ]
     },
     "execution_count": 136,
     "metadata": {},
     "output_type": "execute_result"
    }
   ],
   "source": [
    "dfc = pd.DataFrame(data=pca.components_, columns=X_train.columns).T\n",
    "dfc[0].sort_values().head(10), dfc[0].sort_values().tail(10)"
   ]
  },
  {
   "cell_type": "code",
   "execution_count": 101,
   "metadata": {},
   "outputs": [
    {
     "data": {
      "text/plain": [
       "<BarContainer object of 743 artists>"
      ]
     },
     "execution_count": 101,
     "metadata": {},
     "output_type": "execute_result"
    },
    {
     "data": {
      "image/png": "[encoded data removed]",
      "text/plain": [
       "<Figure size 432x288 with 1 Axes>"
      ]
     },
     "metadata": {
      "image/png": {
       "height": 250,
       "width": 373
      },
      "needs_background": "light"
     },
     "output_type": "display_data"
    }
   ],
   "source": [
    "from sklearn.decomposition import PCA\n",
    "pca = PCA()\n",
    "pca.fit(X_train_scaled)\n",
    "components = pd.DataFrame(pca.transform(X_train_scaled))\n",
    "x_axis = np.arange(1, pca.n_components_ + 1)\n",
    "plt.bar(x_axis[:-1], pca.explained_variance_ratio_.cumsum()[:-1])"
   ]
  },
  {
   "cell_type": "code",
   "execution_count": 71,
   "metadata": {},
   "outputs": [
    {
     "name": "stdout",
     "output_type": "stream",
     "text": [
      "t=1.84s n=100 mae_train=15.572 mae_test=17.730\n",
      "t=3.24s n=200 mae_train=15.846 mae_test=17.864\n",
      "t=4.76s n=300 mae_train=15.674 mae_test=17.690\n",
      "t=6.29s n=400 mae_train=15.650 mae_test=17.660\n",
      "t=7.77s n=500 mae_train=15.722 mae_test=17.798\n",
      "t=9.43s n=600 mae_train=15.723 mae_test=17.792\n",
      "t=11.45s n=700 mae_train=15.747 mae_test=17.807\n",
      "t=13.23s n=800 mae_train=15.740 mae_test=17.780\n",
      "t=14.79s n=900 mae_train=15.781 mae_test=17.822\n",
      "t=16.55s n=1000 mae_train=15.784 mae_test=17.800\n"
     ]
    }
   ],
   "source": [
    "n_ests, mae_train_scores, mae_test_scores = [], [], []\n",
    "for n in range(100, 1100, 100):\n",
    "    t0 = time.time()\n",
    "    m = do_model(n, X_train, X_test, y_train, y_test, sample_frac=.1)\n",
    "    t = time.time() - t0\n",
    "    \n",
    "    n_ests.append(n)\n",
    "    mae =  m['score']['mean_absolute_error']\n",
    "    mae_train_scores.append(mae['train'])\n",
    "    mae_test_scores.append(mae['test'])\n",
    "    print('t={:.2f}s n={} mae_train={:.3f} mae_test={:.3f}'.format(\n",
    "        t, n_ests[-1], mae_train_scores[-1], mae_test_scores[-1]))\n"
   ]
  },
  {
   "cell_type": "code",
   "execution_count": 25,
   "metadata": {},
   "outputs": [],
   "source": [
    "#t=368.20s n=10 mae_train=14.911 mae_test=15.785\n",
    "#t=918.00s n=25 mae_train=14.829 mae_test=15.691\n",
    "#t=1787.67s n=50 mae_train=14.752 mae_test=15.607\n",
    "#t=3592.44s n=100 mae_train=14.735 mae_test=15.593\n",
    "#t=8995.18s n=250 mae_train=14.718 mae_test=15.579"
   ]
  },
  {
   "cell_type": "code",
   "execution_count": null,
   "metadata": {},
   "outputs": [],
   "source": []
  },
  {
   "cell_type": "code",
   "execution_count": null,
   "metadata": {},
   "outputs": [],
   "source": [
    "from glob import glob\n",
    "for f in glob('forest-*.pickle.gz'):\n",
    "    m = pd.read_pickle(f)\n",
    "    y_train_pred = m['forest'].predict(X_train)\n",
    "    y_test_pred = m['forest'].predict(X_test)\n",
    "    mae = m['score']['mean_absolute_error']\n",
    "    print('n={} mae_train={:.3f} mae_test={:.3f}'.format(\n",
    "        m['n_estimators'], mae['train'], mae['test']))"
   ]
  },
  {
   "cell_type": "code",
   "execution_count": null,
   "metadata": {},
   "outputs": [],
   "source": [
    "m = pd.read_pickle('forest_n_ests=10.pickle.gz')"
   ]
  },
  {
   "cell_type": "code",
   "execution_count": null,
   "metadata": {},
   "outputs": [],
   "source": [
    "y_train_pred = forest.predict(X_train)\n",
    "y_test_pred = forest.predict(X_test)\n",
    "mae_train = mean_absolute_error(y_train, y_train_pred)\n",
    "mae_test = mean_absolute_error(y_test, y_test_pred)\n",
    "print(\"MAE train: {:.3f} test: {:.3f} \".format(mae_train, mae_test))"
   ]
  },
  {
   "cell_type": "markdown",
   "metadata": {},
   "source": [
    "# Linear Regression"
   ]
  },
  {
   "cell_type": "code",
   "execution_count": 22,
   "metadata": {},
   "outputs": [],
   "source": [
    "from sklearn.linear_model import LinearRegression\n",
    "slr = LinearRegression(normalize=True)"
   ]
  },
  {
   "cell_type": "code",
   "execution_count": 23,
   "metadata": {},
   "outputs": [
    {
     "ename": "KeyboardInterrupt",
     "evalue": "",
     "output_type": "error",
     "traceback": [
      "\u001b[0;31m---------------------------------------------------------------------------\u001b[0m",
      "\u001b[0;31mKeyboardInterrupt\u001b[0m                         Traceback (most recent call last)",
      "\u001b[0;32m<timed eval>\u001b[0m in \u001b[0;36m<module>\u001b[0;34m\u001b[0m\n",
      "\u001b[0;32m~/miniconda3/lib/python3.6/site-packages/sklearn/linear_model/base.py\u001b[0m in \u001b[0;36mfit\u001b[0;34m(self, X, y, sample_weight)\u001b[0m\n\u001b[1;32m    463\u001b[0m         X, y, X_offset, y_offset, X_scale = self._preprocess_data(\n\u001b[1;32m    464\u001b[0m             \u001b[0mX\u001b[0m\u001b[0;34m,\u001b[0m \u001b[0my\u001b[0m\u001b[0;34m,\u001b[0m \u001b[0mfit_intercept\u001b[0m\u001b[0;34m=\u001b[0m\u001b[0mself\u001b[0m\u001b[0;34m.\u001b[0m\u001b[0mfit_intercept\u001b[0m\u001b[0;34m,\u001b[0m \u001b[0mnormalize\u001b[0m\u001b[0;34m=\u001b[0m\u001b[0mself\u001b[0m\u001b[0;34m.\u001b[0m\u001b[0mnormalize\u001b[0m\u001b[0;34m,\u001b[0m\u001b[0;34m\u001b[0m\u001b[0m\n\u001b[0;32m--> 465\u001b[0;31m             copy=self.copy_X, sample_weight=sample_weight)\n\u001b[0m\u001b[1;32m    466\u001b[0m \u001b[0;34m\u001b[0m\u001b[0m\n\u001b[1;32m    467\u001b[0m         \u001b[0;32mif\u001b[0m \u001b[0msample_weight\u001b[0m \u001b[0;32mis\u001b[0m \u001b[0;32mnot\u001b[0m \u001b[0;32mNone\u001b[0m\u001b[0;34m:\u001b[0m\u001b[0;34m\u001b[0m\u001b[0m\n",
      "\u001b[0;32m~/miniconda3/lib/python3.6/site-packages/sklearn/linear_model/base.py\u001b[0m in \u001b[0;36m_preprocess_data\u001b[0;34m(X, y, fit_intercept, normalize, copy, sample_weight, return_mean, check_input)\u001b[0m\n\u001b[1;32m    147\u001b[0m \u001b[0;34m\u001b[0m\u001b[0m\n\u001b[1;32m    148\u001b[0m         \u001b[0;32melse\u001b[0m\u001b[0;34m:\u001b[0m\u001b[0;34m\u001b[0m\u001b[0m\n\u001b[0;32m--> 149\u001b[0;31m             \u001b[0mX_offset\u001b[0m \u001b[0;34m=\u001b[0m \u001b[0mnp\u001b[0m\u001b[0;34m.\u001b[0m\u001b[0maverage\u001b[0m\u001b[0;34m(\u001b[0m\u001b[0mX\u001b[0m\u001b[0;34m,\u001b[0m \u001b[0maxis\u001b[0m\u001b[0;34m=\u001b[0m\u001b[0;36m0\u001b[0m\u001b[0;34m,\u001b[0m \u001b[0mweights\u001b[0m\u001b[0;34m=\u001b[0m\u001b[0msample_weight\u001b[0m\u001b[0;34m)\u001b[0m\u001b[0;34m\u001b[0m\u001b[0m\n\u001b[0m\u001b[1;32m    150\u001b[0m             \u001b[0mX\u001b[0m \u001b[0;34m-=\u001b[0m \u001b[0mX_offset\u001b[0m\u001b[0;34m\u001b[0m\u001b[0m\n\u001b[1;32m    151\u001b[0m             \u001b[0;32mif\u001b[0m \u001b[0mnormalize\u001b[0m\u001b[0;34m:\u001b[0m\u001b[0;34m\u001b[0m\u001b[0m\n",
      "\u001b[0;32m~/miniconda3/lib/python3.6/site-packages/numpy/lib/function_base.py\u001b[0m in \u001b[0;36maverage\u001b[0;34m(a, axis, weights, returned)\u001b[0m\n\u001b[1;32m    354\u001b[0m \u001b[0;34m\u001b[0m\u001b[0m\n\u001b[1;32m    355\u001b[0m     \u001b[0;32mif\u001b[0m \u001b[0mweights\u001b[0m \u001b[0;32mis\u001b[0m \u001b[0;32mNone\u001b[0m\u001b[0;34m:\u001b[0m\u001b[0;34m\u001b[0m\u001b[0m\n\u001b[0;32m--> 356\u001b[0;31m         \u001b[0mavg\u001b[0m \u001b[0;34m=\u001b[0m \u001b[0ma\u001b[0m\u001b[0;34m.\u001b[0m\u001b[0mmean\u001b[0m\u001b[0;34m(\u001b[0m\u001b[0maxis\u001b[0m\u001b[0;34m)\u001b[0m\u001b[0;34m\u001b[0m\u001b[0m\n\u001b[0m\u001b[1;32m    357\u001b[0m         \u001b[0mscl\u001b[0m \u001b[0;34m=\u001b[0m \u001b[0mavg\u001b[0m\u001b[0;34m.\u001b[0m\u001b[0mdtype\u001b[0m\u001b[0;34m.\u001b[0m\u001b[0mtype\u001b[0m\u001b[0;34m(\u001b[0m\u001b[0ma\u001b[0m\u001b[0;34m.\u001b[0m\u001b[0msize\u001b[0m\u001b[0;34m/\u001b[0m\u001b[0mavg\u001b[0m\u001b[0;34m.\u001b[0m\u001b[0msize\u001b[0m\u001b[0;34m)\u001b[0m\u001b[0;34m\u001b[0m\u001b[0m\n\u001b[1;32m    358\u001b[0m     \u001b[0;32melse\u001b[0m\u001b[0;34m:\u001b[0m\u001b[0;34m\u001b[0m\u001b[0m\n",
      "\u001b[0;32m~/miniconda3/lib/python3.6/site-packages/numpy/core/_methods.py\u001b[0m in \u001b[0;36m_mean\u001b[0;34m(a, axis, dtype, out, keepdims)\u001b[0m\n\u001b[1;32m     73\u001b[0m             \u001b[0mis_float16_result\u001b[0m \u001b[0;34m=\u001b[0m \u001b[0;32mTrue\u001b[0m\u001b[0;34m\u001b[0m\u001b[0m\n\u001b[1;32m     74\u001b[0m \u001b[0;34m\u001b[0m\u001b[0m\n\u001b[0;32m---> 75\u001b[0;31m     \u001b[0mret\u001b[0m \u001b[0;34m=\u001b[0m \u001b[0mumr_sum\u001b[0m\u001b[0;34m(\u001b[0m\u001b[0marr\u001b[0m\u001b[0;34m,\u001b[0m \u001b[0maxis\u001b[0m\u001b[0;34m,\u001b[0m \u001b[0mdtype\u001b[0m\u001b[0;34m,\u001b[0m \u001b[0mout\u001b[0m\u001b[0;34m,\u001b[0m \u001b[0mkeepdims\u001b[0m\u001b[0;34m)\u001b[0m\u001b[0;34m\u001b[0m\u001b[0m\n\u001b[0m\u001b[1;32m     76\u001b[0m     \u001b[0;32mif\u001b[0m \u001b[0misinstance\u001b[0m\u001b[0;34m(\u001b[0m\u001b[0mret\u001b[0m\u001b[0;34m,\u001b[0m \u001b[0mmu\u001b[0m\u001b[0;34m.\u001b[0m\u001b[0mndarray\u001b[0m\u001b[0;34m)\u001b[0m\u001b[0;34m:\u001b[0m\u001b[0;34m\u001b[0m\u001b[0m\n\u001b[1;32m     77\u001b[0m         ret = um.true_divide(\n",
      "\u001b[0;31mKeyboardInterrupt\u001b[0m: "
     ]
    }
   ],
   "source": [
    "%time slr.fit(X_train, y_train)"
   ]
  },
  {
   "cell_type": "code",
   "execution_count": null,
   "metadata": {},
   "outputs": [],
   "source": [
    "y_train_pred = slr.predict(X_train)\n",
    "y_test_pred = slr.predict(X_test)"
   ]
  },
  {
   "cell_type": "code",
   "execution_count": null,
   "metadata": {},
   "outputs": [],
   "source": [
    "from sklearn.metrics import mean_absolute_error, mean_squared_error\n",
    "def display_metric(name, metric, y_train, y_train_pred, y_test, y_test_pred):\n",
    "    print('train: {:.3f}, test: {:.3f}'.format(metric(y_train, y_train_pred), metric(y_test, y_test_pred)))"
   ]
  },
  {
   "cell_type": "code",
   "execution_count": null,
   "metadata": {},
   "outputs": [],
   "source": [
    "display_metric('MAE', mean_absolute_error, y_train, y_train_pred, y_test, y_test_pred)"
   ]
  },
  {
   "cell_type": "code",
   "execution_count": null,
   "metadata": {},
   "outputs": [],
   "source": [
    "display_metric('MSE', mean_squared_error, y_train, y_train_pred, y_test, y_test_pred)"
   ]
  },
  {
   "cell_type": "code",
   "execution_count": null,
   "metadata": {},
   "outputs": [],
   "source": [
    "slr.score(X_train, y_train),slr.score(X_test, y_test)"
   ]
  },
  {
   "cell_type": "code",
   "execution_count": null,
   "metadata": {},
   "outputs": [],
   "source": [
    "slr.coef_.max()"
   ]
  },
  {
   "cell_type": "code",
   "execution_count": null,
   "metadata": {},
   "outputs": [],
   "source": []
  },
  {
   "cell_type": "code",
   "execution_count": null,
   "metadata": {},
   "outputs": [],
   "source": []
  },
  {
   "cell_type": "code",
   "execution_count": null,
   "metadata": {},
   "outputs": [],
   "source": []
  },
  {
   "cell_type": "code",
   "execution_count": null,
   "metadata": {},
   "outputs": [],
   "source": [
    "import matplotlib.pyplot as plt\n",
    "%config InlineBackend.figure_format = 'retina'"
   ]
  },
  {
   "cell_type": "code",
   "execution_count": null,
   "metadata": {},
   "outputs": [],
   "source": [
    "plt.scatter(y_train_pred, y_train_pred - y_train, c='steelblue', marker='o', edgecolors='white', label='Training data')\n",
    "plt.scatter(y_test_pred, y_test_pred - y_test, c='limegreen', marker='s', edgecolors='white', label='Test data')\n",
    "plt.xlabel('Predicted trip duration')\n",
    "plt.ylabel('Residuals')\n",
    "plt.legend()"
   ]
  },
  {
   "cell_type": "code",
   "execution_count": null,
   "metadata": {},
   "outputs": [],
   "source": [
    "y_train.shape, y_train_pred.shape,y_test.shape, y_test_pred.shape"
   ]
  },
  {
   "cell_type": "code",
   "execution_count": null,
   "metadata": {},
   "outputs": [],
   "source": [
    "from sklearn.metrics import mean_squared_error\n",
    "print(\"MSE train: {:.3f}, test: {:.3f}\".format(mean_squared_error(y_train, y_train_pred),\n",
    "                                              mean_squared_error(y_test, y_test_pred)))"
   ]
  },
  {
   "cell_type": "markdown",
   "metadata": {},
   "source": [
    "# RANSAC Regressor"
   ]
  },
  {
   "cell_type": "code",
   "execution_count": null,
   "metadata": {},
   "outputs": [],
   "source": [
    "from sklearn.linear_model import RANSACRegressor\n",
    "ransac = RANSACRegressor(LinearRegression(), max_trials=100, min_samples=10,\n",
    "                         loss='absolute_loss', residual_threshold=15.0, random_state=0)"
   ]
  },
  {
   "cell_type": "code",
   "execution_count": null,
   "metadata": {},
   "outputs": [],
   "source": [
    "%time ransac.fit(X, y)"
   ]
  },
  {
   "cell_type": "code",
   "execution_count": null,
   "metadata": {},
   "outputs": [],
   "source": [
    "inlier_mask = ransac.inlier_mask_\n",
    "outlier_mask = np.logical_not(inlier_mask)\n",
    "line_X = np.arange(3, 10, 1)"
   ]
  },
  {
   "cell_type": "markdown",
   "metadata": {},
   "source": [
    "# Random Forest Regressor"
   ]
  },
  {
   "cell_type": "code",
   "execution_count": null,
   "metadata": {},
   "outputs": [],
   "source": [
    "from sklearn.ensemble import RandomForestRegressor\n",
    "from sklearn.metrics import mean_absolute_error\n",
    "def random_forest_training(n, X_train, y_train, X_test, y_test):\n",
    "    forest = RandomForestRegressor(n_estimators=n, criterion='mse', random_state=1, n_jobs=5)\n",
    "    forest.fit(X_train, y_train)\n",
    "    y_train_pred = forest.predict(X_train)\n",
    "    y_test_pred = forest.predict(X_test)\n",
    "    mae_train = mean_absolute_error(y_train, y_train_pred)\n",
    "    mae_test = mean_absolute_error(y_test, y_test_pred)\n",
    "    \n",
    "    return mae_train, mae_test\n"
   ]
  },
  {
   "cell_type": "code",
   "execution_count": null,
   "metadata": {},
   "outputs": [],
   "source": [
    "X, y = get_sampled_X_y(df, frac=0.01)\n",
    "X_train, X_test, y_train, y_test = split(X, y)"
   ]
  },
  {
   "cell_type": "code",
   "execution_count": null,
   "metadata": {},
   "outputs": [],
   "source": [
    "print(random_forest_training(2 , X_train, y_train, X_test, y_test))"
   ]
  },
  {
   "cell_type": "code",
   "execution_count": null,
   "metadata": {},
   "outputs": [],
   "source": [
    "from sklearn.metrics import \n",
    "pars = [1,2,10,20,50,100,200,500,100,1000]\n",
    "scores = pd.DataFrame()\n",
    "for p in pars:\n",
    "    t0 = time.time()\n",
    "    mae_train, mae_test = random_forest_training(p, X_train, y_train, X_test, y_test)\n",
    "    scores.loc[p,'mae_train'] = mae_train\n",
    "    scores.loc[p,'mae_test'] = mae_test\n",
    "    t = time.time() - t0\n",
    "#    print(\"{} mae train: {:.3f} mae test: {:.3f} time: {:.3f}s\".format(p, mae_train, mae_test, t))\n",
    "    print(\"{} rmse train: {:.3f} mae test: {:.3f} time: {:.3f}s\".format(p, mae_train, mae_test, t))"
   ]
  },
  {
   "cell_type": "code",
   "execution_count": null,
   "metadata": {},
   "outputs": [],
   "source": [
    "scores.plot()"
   ]
  },
  {
   "cell_type": "code",
   "execution_count": null,
   "metadata": {},
   "outputs": [],
   "source": [
    "plt.scatter(y_train_pred, y_train_pred - y_train, c='steelblue', marker='o', edgecolors='white', label='Training data')\n",
    "plt.scatter(y_test_pred, y_test_pred - y_test, c='limegreen', marker='s', edgecolors='white', label='Test data')\n",
    "plt.xlabel('Predicted trip duration')\n",
    "plt.ylabel('Residuals')\n",
    "plt.legend()"
   ]
  },
  {
   "cell_type": "code",
   "execution_count": null,
   "metadata": {},
   "outputs": [],
   "source": []
  },
  {
   "cell_type": "code",
   "execution_count": null,
   "metadata": {},
   "outputs": [],
   "source": []
  }
 ],
 "metadata": {
  "kernelspec": {
   "display_name": "Python 3",
   "language": "python",
   "name": "python3"
  },
  "language_info": {
   "codemirror_mode": {
    "name": "ipython",
    "version": 3
   },
   "file_extension": ".py",
   "mimetype": "text/x-python",
   "name": "python",
   "nbconvert_exporter": "python",
   "pygments_lexer": "ipython3",
   "version": "3.6.6"
  }
 },
 "nbformat": 4,
 "nbformat_minor": 2
}
