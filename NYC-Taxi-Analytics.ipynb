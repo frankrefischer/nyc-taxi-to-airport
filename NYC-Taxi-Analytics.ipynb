{
 "cells": [
  {
   "cell_type": "markdown",
   "metadata": {},
   "source": [
    "# Was ist geschehen?"
   ]
  },
  {
   "cell_type": "markdown",
   "metadata": {},
   "source": [
    "Freitag, 5. Oktober 2018: nach 9 Tagen Urlaub in Manhatten ist der Abreisetag gekommen.\n",
    "Um 17:50 Uhr startet unser Transatlantikflug am Newark Airport.\n",
    "Um 14:15 Uhr steigen wir in ein Taxi in 36. Street West, Ecke 6. Avenue.\n",
    "Wir geraten in einen Stau und verpassen unseren Flug."
   ]
  },
  {
   "cell_type": "markdown",
   "metadata": {},
   "source": [
    "# Hätten wir ein früheres Taxi nehmen sollen?"
   ]
  },
  {
   "cell_type": "markdown",
   "metadata": {},
   "source": [
    "Die Antwort auf diese Frage ist im Nachhinein einfach zu geben: wir kamen zu spät und hätten früher losfahren müssen,"
   ]
  },
  {
   "cell_type": "markdown",
   "metadata": {},
   "source": [
    "# Wann hätten wir losfahren sollen?"
   ]
  },
  {
   "cell_type": "markdown",
   "metadata": {},
   "source": [
    "Rechnen wir zurück.\n",
    "\n",
    "Um 17:50 Uhr startet unser Flugzeug.\n",
    "\n",
    "Die Fluglinie verlangt, mindestens 1 Stunde vorher am Flughafen zu sein: also 16:50 Uhr.\n",
    "\n",
    "Selbst wenn wir da geschafft hätten, hätten wir ca. 20min benötigt um am richtigen Terminal in der Schlange zum Service anzustehen und einen Schnell-Checkin zu bekommen: also 16:30\n",
    "\n",
    "Und das ist knapp gerechnet, wir möchten 30min Reserve für unvorhergesehene Verzögerungen am Flughafen zu haben: 16:00 Uhr\n",
    "\n",
    "Das ergibt folgendes Modell:\n",
    "\n",
    "    Spätester Checkin-Zeitpunkt = Abflugzeitpunkt - 1h\n",
    "    Abfahrtszeitpunkt = Spätester Checkin_Zeitpunkt  - Checkin-Zeit - Reservezeit - Fahrtdauer\n",
    "    Checkin-Zeit = 20min\n",
    "    Reservezeit = 30min\n",
    "    \n",
    "    Abfahrtszeitpunkt = Abflugzeitpunkt - 1h - 20min - 30min - Fahrtdauer\n",
    "                      = Abflugzeitpunkt - 1h50min - Fahrtdauer\n",
    "                      = 17:50 Uhr - 1h50min - Fahrtdauer\n",
    "                      = 16:00 Uhr - Fahrtdauer\n",
    "                      = 16:00 Uhr - 2h45min\n",
    "                      = 13:15 Uhr\n",
    "\n",
    "Unser Taxi ist losgefahren um 14:15 Uhr und angekommen um 17:00 Uhr: also 2h45min Fahrtdauer oder 165min.\n"
   ]
  },
  {
   "cell_type": "markdown",
   "metadata": {},
   "source": [
    "# Hätten wir wissen können, dass wann wir losfahren müssen?"
   ]
  },
  {
   "cell_type": "markdown",
   "metadata": {},
   "source": [
    "Dazu sehen wir uns an: wie lange haben 2017 Taxi-Fahrten von Murray Hill zum Flughafen in Newark benötigt?"
   ]
  },
  {
   "cell_type": "code",
   "execution_count": 4,
   "metadata": {},
   "outputs": [],
   "source": [
    "import pandas as pd\n",
    "import numpy as np\n",
    "import matplotlib.pyplot as plt\n",
    "%config InlineBackend.figure_format = 'retina'\n",
    "\n",
    "def load_taxi_trips_2017():\n",
    "    return pd.read_pickle('nyc-2017-yellow-taxi-trips-to-airport-expanded.pkl.gz')\n",
    "\n",
    "def select_trips_from_zone_to_zone(data, from_zone, to_zone):\n",
    "    return data[(data.pickup_zone == from_zone) & (data.dropoff_zone == to_zone)]"
   ]
  },
  {
   "cell_type": "code",
   "execution_count": 2,
   "metadata": {},
   "outputs": [
    {
     "name": "stdout",
     "output_type": "stream",
     "text": [
      "CPU times: user 5.41 s, sys: 3.5 s, total: 8.91 s\n",
      "Wall time: 7.59 s\n"
     ]
    }
   ],
   "source": [
    "%time tt = load_taxi_trips_2017().query('pickup_zone == \"Murray Hill\" and dropoff_zone == \"Newark Airport\"')"
   ]
  },
  {
   "cell_type": "code",
   "execution_count": 5,
   "metadata": {},
   "outputs": [
    {
     "data": {
      "text/plain": [
       "<matplotlib.axes._subplots.AxesSubplot at 0x7f6ebc4de358>"
      ]
     },
     "execution_count": 5,
     "metadata": {},
     "output_type": "execute_result"
    },
    {
     "data": {
      "image/png": "[encoded data removed]",
      "text/plain": [
       "<Figure size 432x288 with 1 Axes>"
      ]
     },
     "metadata": {
      "image/png": {
       "height": 250,
       "width": 383
      },
      "needs_background": "light"
     },
     "output_type": "display_data"
    }
   ],
   "source": [
    "tt.trip_duration_minutes.hist(bins=100)"
   ]
  },
  {
   "cell_type": "code",
   "execution_count": 7,
   "metadata": {},
   "outputs": [
    {
     "data": {
      "text/plain": [
       "<matplotlib.axes._subplots.AxesSubplot at 0x7f6ebc3cc080>"
      ]
     },
     "execution_count": 7,
     "metadata": {},
     "output_type": "execute_result"
    },
    {
     "data": {
      "image/png": "[encoded data removed]",
      "text/plain": [
       "<Figure size 432x288 with 1 Axes>"
      ]
     },
     "metadata": {
      "image/png": {
       "height": 250,
       "width": 370
      },
      "needs_background": "light"
     },
     "output_type": "display_data"
    }
   ],
   "source": [
    "tt[tt.trip_duration_minutes > 200].trip_duration_minutes.hist()"
   ]
  },
  {
   "cell_type": "code",
   "execution_count": 8,
   "metadata": {},
   "outputs": [
    {
     "data": {
      "text/plain": [
       "0.9962460294542305"
      ]
     },
     "execution_count": 8,
     "metadata": {},
     "output_type": "execute_result"
    }
   ],
   "source": [
    "(tt.trip_duration_minutes <= 200).mean()"
   ]
  },
  {
   "cell_type": "code",
   "execution_count": 9,
   "metadata": {},
   "outputs": [],
   "source": []
  },
  {
   "cell_type": "code",
   "execution_count": 18,
   "metadata": {},
   "outputs": [
    {
     "data": {
      "text/plain": [
       "Text(0.5, 1.0, '6900 Taxifahrten in 2017 von Murray Hill nach Newark Airport')"
      ]
     },
     "execution_count": 18,
     "metadata": {},
     "output_type": "execute_result"
    },
    {
     "data": {
      "image/png": "[encoded data removed]",
      "text/plain": [
       "<Figure size 432x288 with 1 Axes>"
      ]
     },
     "metadata": {
      "image/png": {
       "height": 263,
       "width": 395
      },
      "needs_background": "light"
     },
     "output_type": "display_data"
    }
   ],
   "source": [
    "tt1 = tt.query('trip_duration_minutes <= 200')\n",
    "tt1.trip_duration_minutes.hist(bins=100)\n",
    "plt.title(\"{} Taxifahrten in 2017 von Murray Hill nach Newark Airport\".format(tt1.shape[0]))"
   ]
  },
  {
   "cell_type": "code",
   "execution_count": 21,
   "metadata": {},
   "outputs": [
    {
     "data": {
      "text/plain": [
       "Text(0.5, 1.0, '5085 Taxifahrten an Werktagen in 2017 von Murray Hill nach Newark Airport')"
      ]
     },
     "execution_count": 21,
     "metadata": {},
     "output_type": "execute_result"
    },
    {
     "data": {
      "image/png": "[encoded data removed]",
      "text/plain": [
       "<Figure size 432x288 with 1 Axes>"
      ]
     },
     "metadata": {
      "image/png": {
       "height": 263,
       "width": 477
      },
      "needs_background": "light"
     },
     "output_type": "display_data"
    }
   ],
   "source": [
    "tt2 = tt1.query('dropoff_datetime.dt.weekday < 5')\n",
    "tt2.trip_duration_minutes.hist(bins=100)\n",
    "plt.title(\"{} Taxifahrten an Werktagen in 2017 von Murray Hill nach Newark Airport\".format(tt2.shape[0]))"
   ]
  },
  {
   "cell_type": "code",
   "execution_count": 23,
   "metadata": {},
   "outputs": [
    {
     "data": {
      "text/plain": [
       "Text(0.5, 1.0, '1815 Taxifahrten an Wochenenden in 2017 von Murray Hill nach Newark Airport')"
      ]
     },
     "execution_count": 23,
     "metadata": {},
     "output_type": "execute_result"
    },
    {
     "data": {
      "image/png": "[encoded data removed]",
      "text/plain": [
       "<Figure size 432x288 with 1 Axes>"
      ]
     },
     "metadata": {
      "image/png": {
       "height": 263,
       "width": 497
      },
      "needs_background": "light"
     },
     "output_type": "display_data"
    }
   ],
   "source": [
    "tt3 = tt1.query('dropoff_datetime.dt.weekday > 4')\n",
    "tt3.trip_duration_minutes.hist(bins=100)\n",
    "plt.title(\"{} Taxifahrten an Wochenenden in 2017 von Murray Hill nach Newark Airport\".format(tt3.shape[0]))"
   ]
  },
  {
   "cell_type": "code",
   "execution_count": 254,
   "metadata": {},
   "outputs": [],
   "source": [
    "tt = load_taxi_trips_2017()\n",
    "tt1 = select_trips_from_zone_to_zone(tt, 'Murray Hill', 'Newark Airport') "
   ]
  },
  {
   "cell_type": "code",
   "execution_count": null,
   "metadata": {},
   "outputs": [],
   "source": []
  },
  {
   "cell_type": "code",
   "execution_count": 273,
   "metadata": {},
   "outputs": [
    {
     "data": {
      "text/plain": [
       "1"
      ]
     },
     "execution_count": 273,
     "metadata": {},
     "output_type": "execute_result"
    }
   ],
   "source": [
    "tt1.pickup_zone.unique().size"
   ]
  },
  {
   "cell_type": "code",
   "execution_count": 314,
   "metadata": {},
   "outputs": [],
   "source": [
    "def trip_duration_in_minutes_min_mean_max(data):\n",
    "    tdm = data.trip_duration_minutes\n",
    "    return tdm.min(), tdm.mean(),tdm.max()"
   ]
  },
  {
   "cell_type": "code",
   "execution_count": 332,
   "metadata": {},
   "outputs": [
    {
     "name": "stdout",
     "output_type": "stream",
     "text": [
      "0 25%<=33.81 50%<=40.52 75%<=48.77 80%<=50.98 85%<=54.44 90%<=60.42 95%<=70.26 100%<=1432.82\n",
      "1 25%<=35.95 50%<=42.68 75%<=53.33 80%<=55.85 85%<=60.50 90%<=66.48 95%<=74.07 100%<=1439.05\n",
      "2 25%<=36.24 50%<=43.98 75%<=54.88 80%<=58.07 85%<=62.07 90%<=65.95 95%<=72.89 100%<=1433.53\n",
      "3 25%<=37.18 50%<=45.75 75%<=58.31 80%<=61.92 85%<=66.41 90%<=72.22 95%<=84.07 100%<=1434.42\n",
      "4 25%<=35.03 50%<=46.43 75%<=62.65 80%<=67.15 85%<=73.87 90%<=81.15 95%<=91.66 100%<=1439.53\n",
      "5 25%<=30.58 50%<=36.21 75%<=43.02 80%<=45.76 85%<=48.29 90%<=51.25 95%<=56.85 100%<=1433.02\n",
      "6 25%<=29.80 50%<=35.79 75%<=43.53 80%<=45.60 85%<=48.66 90%<=51.88 95%<=59.73 100%<=1434.07\n"
     ]
    }
   ],
   "source": [
    "def select_trips_on_workdays(tt):\n",
    "    return tt[tt.dropoff_datetime.dt.weekday < 5]\n",
    "def select_trips_on_weekends(tt):\n",
    "    return tt[tt.dropoff_datetime.dt.weekday > 4]\n",
    "def select_trips_on_day(tt, d):\n",
    "    return tt[tt.dropoff_datetime.dt.weekday == d]\n",
    "\n",
    "def trip_duration_quantiles(data, qs):\n",
    "    return data.trip_duration_minutes.quantile(qs)\n",
    "\n",
    "tt2 = select_trips_on_workdays(tt1)\n",
    "def foo(data):\n",
    "    for d in range(0,7):\n",
    "        quantiles = [.25, .50, .75, .80, .85, .90, .95, 1.00]\n",
    "        print(\"{} 25%<={:.2f} 50%<={:.2f} 75%<={:.2f} 80%<={:.2f} 85%<={:.2f} 90%<={:.2f} 95%<={:.2f} 100%<={:.2f}\".format(\n",
    "            d, *trip_duration_quantiles(select_trips_on_day(data, d), quantiles)))\n",
    "foo(tt1)"
   ]
  },
  {
   "cell_type": "code",
   "execution_count": 335,
   "metadata": {},
   "outputs": [
    {
     "name": "stdout",
     "output_type": "stream",
     "text": [
      "0 25%<=40.10 50%<=46.26 75%<=52.37 80%<=54.85 85%<=59.61 90%<=62.95 95%<=70.27 100%<=84.03\n",
      "1 25%<=43.02 50%<=50.88 75%<=58.85 80%<=59.83 85%<=62.11 90%<=66.77 95%<=72.30 100%<=1409.58\n",
      "2 25%<=47.31 50%<=54.11 75%<=62.13 80%<=63.28 85%<=64.95 90%<=67.42 95%<=71.32 100%<=97.23\n",
      "3 25%<=48.87 50%<=55.38 75%<=64.02 80%<=65.46 85%<=68.01 90%<=72.30 95%<=77.67 100%<=1426.92\n",
      "4 25%<=56.47 50%<=64.64 75%<=76.58 80%<=80.12 85%<=85.26 90%<=89.76 95%<=98.63 100%<=1430.32\n",
      "5 25%<=35.69 50%<=40.74 75%<=47.92 80%<=49.24 85%<=51.26 90%<=55.04 95%<=61.67 100%<=115.03\n",
      "6 25%<=35.47 50%<=40.53 75%<=48.62 80%<=50.09 85%<=51.27 90%<=54.89 95%<=61.89 100%<=75.13\n"
     ]
    }
   ],
   "source": [
    "tt2 = tt1[tt1.dropoff_hour.isin([15,16])]\n",
    "foo(tt2)"
   ]
  },
  {
   "cell_type": "code",
   "execution_count": 337,
   "metadata": {},
   "outputs": [
    {
     "name": "stdout",
     "output_type": "stream",
     "text": [
      "0 25%<=41.61 50%<=45.00 75%<=48.72 80%<=48.77 85%<=50.27 90%<=51.77 95%<=64.67 100%<=77.58\n",
      "1 25%<=47.18 50%<=54.57 75%<=61.85 80%<=62.07 85%<=62.89 90%<=65.70 95%<=74.81 100%<=78.42\n",
      "2 25%<=51.51 50%<=59.92 75%<=64.49 80%<=65.85 85%<=66.49 90%<=69.36 95%<=72.11 100%<=79.97\n",
      "3 25%<=52.03 50%<=57.68 75%<=65.18 80%<=66.85 85%<=68.32 90%<=71.04 95%<=73.25 100%<=83.13\n",
      "4 25%<=64.53 50%<=73.39 75%<=81.60 80%<=86.83 85%<=90.95 90%<=96.59 95%<=103.61 100%<=116.73\n",
      "5 25%<=34.49 50%<=43.87 75%<=46.88 80%<=47.64 85%<=48.38 90%<=51.98 95%<=55.02 100%<=56.65\n",
      "6 25%<=36.73 50%<=46.42 75%<=51.84 80%<=52.78 85%<=54.66 90%<=56.80 95%<=64.16 100%<=75.13\n"
     ]
    }
   ],
   "source": [
    "tt3 = tt2[tt2.dropoff_month.isin([8,9])]\n",
    "foo(tt3)"
   ]
  },
  {
   "cell_type": "code",
   "execution_count": null,
   "metadata": {},
   "outputs": [],
   "source": []
  },
  {
   "cell_type": "code",
   "execution_count": null,
   "metadata": {},
   "outputs": [],
   "source": []
  },
  {
   "cell_type": "markdown",
   "metadata": {},
   "source": [
    "# What happened?"
   ]
  },
  {
   "cell_type": "code",
   "execution_count": null,
   "metadata": {},
   "outputs": [],
   "source": []
  },
  {
   "cell_type": "code",
   "execution_count": null,
   "metadata": {},
   "outputs": [],
   "source": []
  },
  {
   "cell_type": "markdown",
   "metadata": {},
   "source": [
    "At Friday, October 5th 2018 we tried to get our plane at 17:50 pm at Newark Airport."
   ]
  },
  {
   "cell_type": "markdown",
   "metadata": {},
   "source": [
    "You have to be at the airport on 1 hour before departure: so 16:50"
   ]
  },
  {
   "cell_type": "markdown",
   "metadata": {},
   "source": [
    "We planned in lots of buffer so we were picked up by a taxi at 14:15 in Manhatten,6th avenue corner 36th street."
   ]
  },
  {
   "cell_type": "markdown",
   "metadata": {},
   "source": [
    "Guess what: we arrived at 17:05 at the airport and missed the plane."
   ]
  },
  {
   "cell_type": "markdown",
   "metadata": {},
   "source": [
    "https://www.google.com/maps/place/6th+Ave+%26+W+35th+St,+New+York,+NY+10018,+USA/@40.7504619,-73.9894728,17z/data=!3m1!4b1!4m5!3m4!1s0x89c259a9673350a3:0xa607f153af52d5ca!8m2!3d40.7504619!4d-73.9872841"
   ]
  },
  {
   "cell_type": "markdown",
   "metadata": {},
   "source": [
    "# How often did it happen in 2017, that a taxi took for that too long?"
   ]
  },
  {
   "cell_type": "code",
   "execution_count": 2,
   "metadata": {},
   "outputs": [],
   "source": [
    "df = pd.read_pickle('nyc-2017-yellow-taxi-trips-to-airport-expanded.pkl.gz')"
   ]
  },
  {
   "cell_type": "code",
   "execution_count": 3,
   "metadata": {},
   "outputs": [
    {
     "data": {
      "text/plain": [
       "Index(['JFK Airport', 'LaGuardia Airport', 'Newark Airport'], dtype='object')"
      ]
     },
     "execution_count": 3,
     "metadata": {},
     "output_type": "execute_result"
    }
   ],
   "source": [
    "df.dropoff_zone.cat.categories"
   ]
  },
  {
   "cell_type": "code",
   "execution_count": 188,
   "metadata": {},
   "outputs": [
    {
     "data": {
      "text/plain": [
       "(6926, 756)"
      ]
     },
     "execution_count": 188,
     "metadata": {},
     "output_type": "execute_result"
    }
   ],
   "source": [
    "def filter_trips_to_newark_airport(df):\n",
    "    return df[df.dropoff_zone == 'Newark Airport']\n",
    "def filter_trips_from_murray_hill(df):\n",
    "    return df[df.pickup_zone == 'Murray Hill']\n",
    "\n",
    "df1 = filter_trips_from_murray_hill(df)\n",
    "df1 = filter_trips_to_newark_airport(df1)\n",
    "df1.shape"
   ]
  },
  {
   "cell_type": "code",
   "execution_count": 5,
   "metadata": {},
   "outputs": [
    {
     "data": {
      "text/plain": [
       "count    6926.000000\n",
       "mean       50.134683\n",
       "std        82.484907\n",
       "min         0.000000\n",
       "25%        33.733333\n",
       "50%        41.541667\n",
       "75%        52.662500\n",
       "max      1439.533333\n",
       "Name: trip_duration_minutes, dtype: float64"
      ]
     },
     "execution_count": 5,
     "metadata": {},
     "output_type": "execute_result"
    }
   ],
   "source": [
    "df1.trip_duration_minutes.describe()"
   ]
  },
  {
   "cell_type": "code",
   "execution_count": 36,
   "metadata": {},
   "outputs": [
    {
     "data": {
      "text/plain": [
       "(108, 1631.45)"
      ]
     },
     "execution_count": 36,
     "metadata": {},
     "output_type": "execute_result"
    }
   ],
   "source": [
    "int(df.trip_duration_minutes.max()/15),df.trip_duration_minutes.max()"
   ]
  },
  {
   "cell_type": "code",
   "execution_count": null,
   "metadata": {},
   "outputs": [],
   "source": []
  },
  {
   "cell_type": "code",
   "execution_count": 228,
   "metadata": {},
   "outputs": [
    {
     "name": "stdout",
     "output_type": "stream",
     "text": [
      "22\n",
      ">30min -> 22 100.00%\n",
      ">45min -> 21 95.45%\n",
      ">60min -> 14 63.64%\n",
      ">90min -> 0 0.00%\n",
      ">120min -> 0 0.00%\n",
      ">150min -> 0 0.00%\n",
      ">180min -> 0 0.00%\n"
     ]
    }
   ],
   "source": [
    "def foo(df):\n",
    "    print(df.shape[0])\n",
    "    for t in [30, 45, 60, 90, 120, 150, 180]:\n",
    "        trips = df.trip_duration_minutes > t\n",
    "        print(\">{}min -> {} {:.2f}%\".format(t, trips.sum(), 100*trips.mean()))\n",
    "    \n",
    "foo(df1[(df1.dropoff_datetime.dt.weekday == 4) & (df1.dropoff_month.isin([8,9,10])) & (df1.dropoff_hour == 15)])\n"
   ]
  },
  {
   "cell_type": "code",
   "execution_count": 201,
   "metadata": {},
   "outputs": [
    {
     "data": {
      "text/plain": [
       "(26, 756)"
      ]
     },
     "execution_count": 201,
     "metadata": {},
     "output_type": "execute_result"
    }
   ],
   "source": [
    "df1[df1.trip_duration_minutes > 180].shape"
   ]
  },
  {
   "cell_type": "code",
   "execution_count": 132,
   "metadata": {},
   "outputs": [],
   "source": [
    "import seaborn as sns\n",
    "import matplotlib.pyplot as plt\n",
    "tdm = df1.trip_duration_minutes\n",
    "tdm_lt_200 = tdm[tdm < 600]\n",
    "\n",
    "df_workdays = df1[df1.dropoff_datetime.dt.weekday <5]\n",
    "tdm_workdays_tdm = df_workdays.trip_duration_minutes\n",
    "tdm_workdays_tdm_lt_200 = tdm_workdays_tdm[tdm_workdays_tdm < 200]\n",
    "\n",
    "df_weekends = df1[df1.dropoff_datetime.dt.weekday >=5]\n",
    "tdm_weekends_tdm = df_weekends.trip_duration_minutes\n",
    "tdm_weekends_tdm_lt_200 = tdm_weekends_tdm[tdm_weekends_tdm < 200]"
   ]
  },
  {
   "cell_type": "code",
   "execution_count": 133,
   "metadata": {},
   "outputs": [
    {
     "data": {
      "text/plain": [
       "163.98333333333332"
      ]
     },
     "execution_count": 133,
     "metadata": {},
     "output_type": "execute_result"
    }
   ],
   "source": [
    "tdm_lt_200.max()"
   ]
  },
  {
   "cell_type": "code",
   "execution_count": 134,
   "metadata": {},
   "outputs": [
    {
     "data": {
      "text/plain": [
       "range(0, 150, 15)"
      ]
     },
     "execution_count": 134,
     "metadata": {},
     "output_type": "execute_result"
    }
   ],
   "source": [
    "range(0, 150, 15)"
   ]
  },
  {
   "cell_type": "code",
   "execution_count": 167,
   "metadata": {},
   "outputs": [
    {
     "data": {
      "image/png": "[encoded data removed]",
      "text/plain": [
       "<Figure size 432x288 with 1 Axes>"
      ]
     },
     "metadata": {
      "needs_background": "light"
     },
     "output_type": "display_data"
    }
   ],
   "source": [
    "plt.hist(tdm_lt_200,\n",
    "            density=True,\n",
    "             bins=int(tdm_lt_200.max()/5), color = 'blue',\n",
    "             edgecolor='white');\n",
    "\n",
    "plt.xticks(ticks=range(0,170,15));"
   ]
  },
  {
   "cell_type": "code",
   "execution_count": 165,
   "metadata": {},
   "outputs": [
    {
     "data": {
      "image/png": "[encoded data removed]",
      "text/plain": [
       "<Figure size 432x288 with 1 Axes>"
      ]
     },
     "metadata": {
      "needs_background": "light"
     },
     "output_type": "display_data"
    }
   ],
   "source": [
    "plt.hist(tdm_workdays_tdm_lt_200,\n",
    "             bins=int(tdm_workdays_tdm_lt_200.max()/5), color = 'blue', align='mid',\n",
    "             edgecolor='white');\n",
    "plt.xticks(ticks=range(0,170,15));\n",
    "plt.ylim=([0, 1000])"
   ]
  },
  {
   "cell_type": "code",
   "execution_count": 157,
   "metadata": {},
   "outputs": [
    {
     "data": {
      "text/plain": [
       "(0, 800)"
      ]
     },
     "execution_count": 157,
     "metadata": {},
     "output_type": "execute_result"
    },
    {
     "data": {
      "image/png": "[encoded data removed]",
      "text/plain": [
       "<Figure size 432x288 with 1 Axes>"
      ]
     },
     "metadata": {
      "needs_background": "light"
     },
     "output_type": "display_data"
    }
   ],
   "source": [
    "plt.hist(tdm_weekends_tdm_lt_200,\n",
    "             bins=int(tdm_weekends_tdm_lt_200.max()/5), color = 'blue', align='mid',\n",
    "             edgecolor='white');\n",
    "plt.xticks(ticks=range(0,170,15));\n",
    "plt.ylim([0, 800])"
   ]
  },
  {
   "cell_type": "code",
   "execution_count": 176,
   "metadata": {},
   "outputs": [
    {
     "data": {
      "text/plain": [
       "<matplotlib.collections.LineCollection at 0x126730da0>"
      ]
     },
     "execution_count": 176,
     "metadata": {},
     "output_type": "execute_result"
    },
    {
     "data": {
      "image/png": "[encoded data removed]",
      "text/plain": [
       "<Figure size 432x288 with 1 Axes>"
      ]
     },
     "metadata": {
      "needs_background": "light"
     },
     "output_type": "display_data"
    }
   ],
   "source": [
    "\n",
    "counts, bin_edges = np.histogram (tdm_workdays_tdm, bins=20, density=True)\n",
    "cdf = np.cumsum (counts)\n",
    "plt.plot (bin_edges[1:], cdf/cdf[-1])\n",
    "plt.hlines(xmin=0, xmax=160, y=.95)"
   ]
  },
  {
   "cell_type": "code",
   "execution_count": 174,
   "metadata": {},
   "outputs": [
    {
     "data": {
      "text/plain": [
       "<matplotlib.collections.LineCollection at 0x1262d30f0>"
      ]
     },
     "execution_count": 174,
     "metadata": {},
     "output_type": "execute_result"
    },
    {
     "data": {
      "image/png": "[encoded data removed]",
      "text/plain": [
       "<Figure size 432x288 with 1 Axes>"
      ]
     },
     "metadata": {
      "needs_background": "light"
     },
     "output_type": "display_data"
    }
   ],
   "source": [
    "\n",
    "counts, bin_edges = np.histogram (tdm_workdays_tdm_lt_200, bins=20, density=True)\n",
    "cdf = np.cumsum (counts)\n",
    "plt.plot (bin_edges[1:], cdf/cdf[-1])\n",
    "plt.hlines(xmin=0, xmax=160, y=.95)"
   ]
  },
  {
   "cell_type": "code",
   "execution_count": 175,
   "metadata": {},
   "outputs": [
    {
     "data": {
      "text/plain": [
       "<matplotlib.collections.LineCollection at 0x12626ad30>"
      ]
     },
     "execution_count": 175,
     "metadata": {},
     "output_type": "execute_result"
    },
    {
     "data": {
      "image/png": "[encoded data removed]",
      "text/plain": [
       "<Figure size 432x288 with 1 Axes>"
      ]
     },
     "metadata": {
      "needs_background": "light"
     },
     "output_type": "display_data"
    }
   ],
   "source": [
    "\n",
    "counts, bin_edges = np.histogram (tdm_weekends_tdm_lt_200, bins=20, density=True)\n",
    "cdf = np.cumsum (counts)\n",
    "plt.plot (bin_edges[1:], cdf/cdf[-1])\n",
    "plt.hlines(xmin=0, xmax=160, y=.95)"
   ]
  },
  {
   "cell_type": "code",
   "execution_count": 139,
   "metadata": {},
   "outputs": [
    {
     "data": {
      "text/plain": [
       "0.00     0.000000\n",
       "0.05    26.649167\n",
       "0.10    28.415000\n",
       "0.15    30.116667\n",
       "0.20    31.980000\n",
       "0.25    33.716667\n",
       "0.30    35.200000\n",
       "0.35    36.894167\n",
       "0.40    38.466667\n",
       "0.45    39.933333\n",
       "0.50    41.466667\n",
       "0.55    43.200000\n",
       "0.60    45.040000\n",
       "0.65    47.250000\n",
       "0.70    49.721667\n",
       "0.75    52.466667\n",
       "0.80    55.983333\n",
       "0.85    60.500000\n",
       "0.90    66.485000\n",
       "0.95    77.150833\n",
       "Name: trip_duration_minutes, dtype: float64"
      ]
     },
     "execution_count": 139,
     "metadata": {},
     "output_type": "execute_result"
    }
   ],
   "source": [
    "tdm_lt_200_q = tdm_lt_200.quantile(np.arange(0,100, 5)/100)\n",
    "tdm_lt_200_q"
   ]
  },
  {
   "cell_type": "code",
   "execution_count": 140,
   "metadata": {},
   "outputs": [
    {
     "data": {
      "text/plain": [
       "0.00     0.000000\n",
       "0.05    27.383333\n",
       "0.10    29.366667\n",
       "0.15    31.810000\n",
       "0.20    33.866667\n",
       "0.25    35.550000\n",
       "0.30    37.383333\n",
       "0.35    39.116667\n",
       "0.40    40.666667\n",
       "0.45    42.183333\n",
       "0.50    43.883333\n",
       "0.55    45.816667\n",
       "0.60    47.856667\n",
       "0.65    50.166667\n",
       "0.70    52.830000\n",
       "0.75    55.933333\n",
       "0.80    59.506667\n",
       "0.85    64.100000\n",
       "0.90    69.920000\n",
       "0.95    80.586667\n",
       "Name: trip_duration_minutes, dtype: float64"
      ]
     },
     "execution_count": 140,
     "metadata": {},
     "output_type": "execute_result"
    }
   ],
   "source": [
    "tdm_workdays_tdm_lt_200_q = tdm_workdays_tdm_lt_200.quantile(np.arange(0,100, 5)/100)\n",
    "tdm_workdays_tdm_lt_200_q"
   ]
  },
  {
   "cell_type": "code",
   "execution_count": 141,
   "metadata": {},
   "outputs": [
    {
     "data": {
      "text/plain": [
       "0.00    20.783333\n",
       "0.05    25.783333\n",
       "0.10    26.916667\n",
       "0.15    27.983333\n",
       "0.20    29.083333\n",
       "0.25    30.141667\n",
       "0.30    31.433333\n",
       "0.35    32.666667\n",
       "0.40    33.693333\n",
       "0.45    34.848333\n",
       "0.50    35.916667\n",
       "0.55    37.328333\n",
       "0.60    38.490000\n",
       "0.65    39.693333\n",
       "0.70    41.313333\n",
       "0.75    43.375000\n",
       "0.80    45.600000\n",
       "0.85    48.483333\n",
       "0.90    51.460000\n",
       "0.95    57.505000\n",
       "Name: trip_duration_minutes, dtype: float64"
      ]
     },
     "execution_count": 141,
     "metadata": {},
     "output_type": "execute_result"
    }
   ],
   "source": [
    "tdm_weekends_tdm_lt_200_q = tdm_weekends_tdm_lt_200.quantile(np.arange(0,100, 5)/100)\n",
    "tdm_weekends_tdm_lt_200_q"
   ]
  },
  {
   "cell_type": "code",
   "execution_count": 142,
   "metadata": {},
   "outputs": [
    {
     "data": {
      "text/plain": [
       "<matplotlib.collections.LineCollection at 0x11db2ce80>"
      ]
     },
     "execution_count": 142,
     "metadata": {},
     "output_type": "execute_result"
    },
    {
     "data": {
      "image/png": "[encoded data removed]",
      "text/plain": [
       "<Figure size 432x288 with 1 Axes>"
      ]
     },
     "metadata": {
      "needs_background": "light"
     },
     "output_type": "display_data"
    }
   ],
   "source": [
    "plt.bar(height=tdm_lt_200_q.index, x=tdm_lt_200_q.values, align='center', width=1.0);\n",
    "plt.hlines(xmin=0, xmax=80, y=.95)\n",
    "plt.hlines(xmin=0, xmax=80, y=.90)\n",
    "plt.hlines(xmin=0, xmax=80, y=.85)"
   ]
  },
  {
   "cell_type": "code",
   "execution_count": 143,
   "metadata": {},
   "outputs": [
    {
     "data": {
      "text/plain": [
       "<matplotlib.collections.LineCollection at 0x126cec240>"
      ]
     },
     "execution_count": 143,
     "metadata": {},
     "output_type": "execute_result"
    },
    {
     "data": {
      "image/png": "[encoded data removed]",
      "text/plain": [
       "<Figure size 432x288 with 1 Axes>"
      ]
     },
     "metadata": {
      "needs_background": "light"
     },
     "output_type": "display_data"
    }
   ],
   "source": [
    "plt.bar(height=tdm_workdays_tdm_lt_200_q.index, x=tdm_lt_200_q.values, align='center', width=1.0);\n",
    "plt.hlines(xmin=0, xmax=80, y=.95)\n",
    "plt.hlines(xmin=0, xmax=80, y=.90)\n",
    "plt.hlines(xmin=0, xmax=80, y=.85)"
   ]
  },
  {
   "cell_type": "code",
   "execution_count": 145,
   "metadata": {},
   "outputs": [
    {
     "data": {
      "text/plain": [
       "<matplotlib.collections.LineCollection at 0x11e9ce630>"
      ]
     },
     "execution_count": 145,
     "metadata": {},
     "output_type": "execute_result"
    },
    {
     "data": {
      "image/png": "[encoded data removed]",
      "text/plain": [
       "<Figure size 432x288 with 1 Axes>"
      ]
     },
     "metadata": {
      "needs_background": "light"
     },
     "output_type": "display_data"
    }
   ],
   "source": [
    "plt.bar(height=tdm_weekends_tdm_lt_200_q.index, x=tdm_weekends_tdm_lt_200_q.values, align='center', width=1.0);\n",
    "plt.hlines(xmin=0, xmax=80, y=.95)\n",
    "plt.hlines(xmin=0, xmax=80, y=.90)\n",
    "plt.hlines(xmin=0, xmax=80, y=.85)"
   ]
  },
  {
   "cell_type": "code",
   "execution_count": 146,
   "metadata": {},
   "outputs": [
    {
     "name": "stdout",
     "output_type": "stream",
     "text": [
      "trip duration longer than 3 hours: 0.38%\n"
     ]
    }
   ],
   "source": [
    "print(\"trip duration longer than 3 hours: {:.2f}%\".format(100*(df1.trip_duration_minutes > 180).mean()))"
   ]
  },
  {
   "cell_type": "code",
   "execution_count": 147,
   "metadata": {},
   "outputs": [
    {
     "data": {
      "text/plain": [
       "pickup_zone\n",
       "Allerton/Pelham Gardens              0\n",
       "Alphabet City                        0\n",
       "Arden Heights                        0\n",
       "Arrochar/Fort Wadsworth              0\n",
       "Astoria                              0\n",
       "Astoria Park                         0\n",
       "Auburndale                           0\n",
       "Baisley Park                         0\n",
       "Bath Beach                           0\n",
       "Battery Park                         0\n",
       "Battery Park City                    0\n",
       "Bay Ridge                            0\n",
       "Bay Terrace/Fort Totten              0\n",
       "Bayside                              0\n",
       "Bedford                              0\n",
       "Bedford Park                         0\n",
       "Bellerose                            0\n",
       "Belmont                              0\n",
       "Bensonhurst East                     0\n",
       "Bensonhurst West                     0\n",
       "Bloomfield/Emerson Hill              0\n",
       "Bloomingdale                         0\n",
       "Boerum Hill                          0\n",
       "Borough Park                         0\n",
       "Briarwood/Jamaica Hills              0\n",
       "Brighton Beach                       0\n",
       "Broad Channel                        0\n",
       "Bronx Park                           0\n",
       "Bronxdale                            0\n",
       "Brooklyn Heights                     0\n",
       "                                    ..\n",
       "Union Sq                             0\n",
       "University Heights/Morris Heights    0\n",
       "Upper East Side North                0\n",
       "Upper East Side South                0\n",
       "Upper West Side North                0\n",
       "Upper West Side South                0\n",
       "Van Cortlandt Park                   0\n",
       "Van Cortlandt Village                0\n",
       "Van Nest/Morris Park                 0\n",
       "Washington Heights North             0\n",
       "Washington Heights South             0\n",
       "West Brighton                        0\n",
       "West Chelsea/Hudson Yards            0\n",
       "West Concourse                       0\n",
       "West Farms/Bronx River               0\n",
       "West Village                         0\n",
       "Westchester Village/Unionport        0\n",
       "Westerleigh                          0\n",
       "Whitestone                           0\n",
       "Willets Point                        0\n",
       "Williamsbridge/Olinville             0\n",
       "Williamsburg (North Side)            0\n",
       "Williamsburg (South Side)            0\n",
       "Windsor Terrace                      0\n",
       "Woodhaven                            0\n",
       "Woodlawn/Wakefield                   0\n",
       "Woodside                             0\n",
       "World Trade Center                   0\n",
       "Yorkville East                       0\n",
       "Yorkville West                       0\n",
       "Length: 249, dtype: int64"
      ]
     },
     "execution_count": 147,
     "metadata": {},
     "output_type": "execute_result"
    }
   ],
   "source": [
    "import matplotlib.pyplot as plt\n",
    "\n",
    "df1.groupby(['pickup_zone']).size()"
   ]
  },
  {
   "cell_type": "code",
   "execution_count": 148,
   "metadata": {},
   "outputs": [],
   "source": [
    "trips_to_newark_airport = df[df.dropoff_zone == 'Newark Airport']\n"
   ]
  },
  {
   "cell_type": "code",
   "execution_count": 149,
   "metadata": {},
   "outputs": [
    {
     "data": {
      "text/plain": [
       "pickup_zone\n",
       "Boerum Hill                         115\n",
       "Hamilton Heights                    121\n",
       "Washington Heights South            131\n",
       "Central Harlem North                133\n",
       "East Harlem North                   135\n",
       "Brooklyn Heights                    147\n",
       "Two Bridges/Seward Park             170\n",
       "Alphabet City                       192\n",
       "Downtown Brooklyn/MetroTech         234\n",
       "Central Harlem                      302\n",
       "East Harlem South                   385\n",
       "Bloomingdale                        391\n",
       "Stuy Town/Peter Cooper Village      392\n",
       "Chinatown                           418\n",
       "Seaport                             593\n",
       "Morningside Heights                 864\n",
       "Yorkville East                      868\n",
       "Kips Bay                            872\n",
       "Lenox Hill East                    1030\n",
       "Manhattan Valley                   1132\n",
       "Yorkville West                     1219\n",
       "Lenox Hill West                    1347\n",
       "Financial District South           1463\n",
       "Greenwich Village South            1573\n",
       "Sutton Place/Turtle Bay North      1631\n",
       "Lower East Side                    1789\n",
       "Little Italy/NoLiTa                1868\n",
       "Lincoln Square West                1880\n",
       "Upper East Side North              2061\n",
       "LaGuardia Airport                  2111\n",
       "                                  ...  \n",
       "Greenwich Village North            2511\n",
       "Clinton West                       2700\n",
       "JFK Airport                        2779\n",
       "Hudson Sq                          2903\n",
       "East Village                       2907\n",
       "West Village                       3064\n",
       "West Chelsea/Hudson Yards          3064\n",
       "Gramercy                           3104\n",
       "Flatiron                           3439\n",
       "Upper East Side South              3490\n",
       "Meatpacking/West Village West      3534\n",
       "Upper West Side South              3710\n",
       "World Trade Center                 3835\n",
       "Financial District North           4133\n",
       "UN/Turtle Bay South                4227\n",
       "Union Sq                           4816\n",
       "TriBeCa/Civic Center               5523\n",
       "Garment District                   5530\n",
       "Lincoln Square East                5627\n",
       "Battery Park City                  5805\n",
       "East Chelsea                       6292\n",
       "Murray Hill                        6926\n",
       "Penn Station/Madison Sq West       7592\n",
       "Newark Airport                     7811\n",
       "Midtown South                      8750\n",
       "Clinton East                       9865\n",
       "Midtown East                      10644\n",
       "Midtown North                     13648\n",
       "Midtown Center                    13992\n",
       "Times Sq/Theatre District         20669\n",
       "Length: 63, dtype: int64"
      ]
     },
     "execution_count": 149,
     "metadata": {},
     "output_type": "execute_result"
    }
   ],
   "source": [
    "count_of_trips_to_ewr_per_pickup_zone = trips_to_newark_airport.groupby(['pickup_zone']).size().sort_values()\n",
    "count_of_trips_to_ewr_per_pickup_zone[count_of_trips_to_ewr_per_pickup_zone > 100]"
   ]
  },
  {
   "cell_type": "markdown",
   "metadata": {},
   "source": [
    "## Correlation with weekday"
   ]
  },
  {
   "cell_type": "markdown",
   "metadata": {},
   "source": [
    "## Correlation with time of year"
   ]
  },
  {
   "cell_type": "markdown",
   "metadata": {},
   "source": [
    "## Correlation with time of day"
   ]
  },
  {
   "cell_type": "markdown",
   "metadata": {},
   "source": []
  }
 ],
 "metadata": {
  "kernelspec": {
   "display_name": "Python 3",
   "language": "python",
   "name": "python3"
  },
  "language_info": {
   "codemirror_mode": {
    "name": "ipython",
    "version": 3
   },
   "file_extension": ".py",
   "mimetype": "text/x-python",
   "name": "python",
   "nbconvert_exporter": "python",
   "pygments_lexer": "ipython3",
   "version": "3.7.0"
  }
 },
 "nbformat": 4,
 "nbformat_minor": 2
}
