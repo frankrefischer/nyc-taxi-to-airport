{
 "cells": [
  {
   "cell_type": "code",
   "execution_count": null,
   "metadata": {},
   "outputs": [],
   "source": []
  },
  {
   "cell_type": "markdown",
   "metadata": {},
   "source": [
    "# Overview\n",
    "\n",
    "This is a project work for the Udacity Datascience Nanodegree.\n",
    "\n",
    "## 1. Business Understanding\n",
    "\n",
    "My wife and me spent holidays in Manhattan in October 2018. Our taxi ride to the Newark Airport got stuck in a terrible traffic jam and we missed out flight.\n",
    "\n",
    "The business questions I want to analyze:\n",
    "\n",
    "#### * Should we have planned more time for the transfer?\n",
    "\n",
    "#### * Which of the three airports has best reachability from the quarter where we stayed this time?\n",
    "\n",
    "#### * Which quarter has best reachability to Newark Airport?\n",
    "\n",
    "## [2. Data_Understanding](2_Data_Understanding.ipynb)\n",
    "\n",
    "## [3. Prepare_Data](3_Prepare_Data.ipynb)</a>\n",
    "\n",
    "## [4. Model_Data](4_Model_Data.ipynb)\n",
    "\n",
    "## [5. Results](5_Results.ipynb)\n",
    "\n",
    "## 6. Deploy\n",
    "\n",
    "I have summarized the answer in a blog post: https://medium.com/p/f7d120781562/edit\n",
    "\n",
    "\n"
   ]
  },
  {
   "cell_type": "code",
   "execution_count": null,
   "metadata": {},
   "outputs": [],
   "source": []
  }
 ],
 "metadata": {
  "kernelspec": {
   "display_name": "Python [default]",
   "language": "python",
   "name": "python3"
  },
  "language_info": {
   "codemirror_mode": {
    "name": "ipython",
    "version": 3
   },
   "file_extension": ".py",
   "mimetype": "text/x-python",
   "name": "python",
   "nbconvert_exporter": "python",
   "pygments_lexer": "ipython3",
   "version": "3.6.5"
  }
 },
 "nbformat": 4,
 "nbformat_minor": 2
}
