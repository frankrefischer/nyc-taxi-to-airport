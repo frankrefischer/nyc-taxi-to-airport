{
 "cells": [
  {
   "cell_type": "markdown",
   "metadata": {},
   "source": [
    "# Prepare Data"
   ]
  },
  {
   "cell_type": "markdown",
   "metadata": {},
   "source": [
    "## Extracting trips to airports"
   ]
  },
  {
   "cell_type": "markdown",
   "metadata": {},
   "source": [
    "The complete raw csv file contains more than 110 million rows. We will now strip it down by selecting only those taxi trips that are heading to any of the three airports:\n",
    "* Newark\n",
    "* JFK\n",
    "* LaGuardia\n"
   ]
  },
  {
   "cell_type": "markdown",
   "metadata": {},
   "source": [
    "The module that executes that is called: `step_2_extract_trips_to_airport`."
   ]
  },
  {
   "cell_type": "code",
   "execution_count": 1,
   "metadata": {},
   "outputs": [],
   "source": [
    "#uncomment if you debug the module\n",
    "%load_ext autoreload\n",
    "%autoreload 2"
   ]
  },
  {
   "cell_type": "code",
   "execution_count": 2,
   "metadata": {},
   "outputs": [],
   "source": [
    "import pandas as pd\n",
    "import step_2_extract_trips_to_airport as step2"
   ]
  },
  {
   "cell_type": "markdown",
   "metadata": {},
   "source": [
    "Lets lookup the location IDs for airport zones in the zone lookup table."
   ]
  },
  {
   "cell_type": "code",
   "execution_count": 3,
   "metadata": {},
   "outputs": [
    {
     "data": {
      "text/html": [
       "<div>\n",
       "<style scoped>\n",
       "    .dataframe tbody tr th:only-of-type {\n",
       "        vertical-align: middle;\n",
       "    }\n",
       "\n",
       "    .dataframe tbody tr th {\n",
       "        vertical-align: top;\n",
       "    }\n",
       "\n",
       "    .dataframe thead th {\n",
       "        text-align: right;\n",
       "    }\n",
       "</style>\n",
       "<table border=\"1\" class=\"dataframe\">\n",
       "  <thead>\n",
       "    <tr style=\"text-align: right;\">\n",
       "      <th></th>\n",
       "      <th>LocationID</th>\n",
       "      <th>Borough</th>\n",
       "      <th>Zone</th>\n",
       "      <th>service_zone</th>\n",
       "    </tr>\n",
       "  </thead>\n",
       "  <tbody>\n",
       "    <tr>\n",
       "      <th>0</th>\n",
       "      <td>1</td>\n",
       "      <td>EWR</td>\n",
       "      <td>Newark Airport</td>\n",
       "      <td>EWR</td>\n",
       "    </tr>\n",
       "    <tr>\n",
       "      <th>131</th>\n",
       "      <td>132</td>\n",
       "      <td>Queens</td>\n",
       "      <td>JFK Airport</td>\n",
       "      <td>Airports</td>\n",
       "    </tr>\n",
       "    <tr>\n",
       "      <th>137</th>\n",
       "      <td>138</td>\n",
       "      <td>Queens</td>\n",
       "      <td>LaGuardia Airport</td>\n",
       "      <td>Airports</td>\n",
       "    </tr>\n",
       "  </tbody>\n",
       "</table>\n",
       "</div>"
      ],
      "text/plain": [
       "     LocationID Borough               Zone service_zone\n",
       "0             1     EWR     Newark Airport          EWR\n",
       "131         132  Queens        JFK Airport     Airports\n",
       "137         138  Queens  LaGuardia Airport     Airports"
      ]
     },
     "execution_count": 3,
     "metadata": {},
     "output_type": "execute_result"
    }
   ],
   "source": [
    "zones = pd.read_csv('https://s3.amazonaws.com/nyc-tlc/misc/taxi+_zone_lookup.csv').dropna()\n",
    "zones[zones.Zone.str.contains(\"Airport\")]"
   ]
  },
  {
   "cell_type": "markdown",
   "metadata": {},
   "source": [
    "These values are hard encoded in the step2 module"
   ]
  },
  {
   "cell_type": "code",
   "execution_count": 4,
   "metadata": {},
   "outputs": [
    {
     "data": {
      "text/plain": [
       "((1, 132, 138), 1, 132, 138)"
      ]
     },
     "execution_count": 4,
     "metadata": {},
     "output_type": "execute_result"
    }
   ],
   "source": [
    "step2.nyc_airports, step2.newark, step2.jfk, step2.laguardia"
   ]
  },
  {
   "cell_type": "markdown",
   "metadata": {},
   "source": [
    "The main function will load the raw data csv file, filter trips with airport destinations and save it as a gzipped csv file. "
   ]
  },
  {
   "cell_type": "markdown",
   "metadata": {},
   "source": [
    "You may call it from command line:"
   ]
  },
  {
   "cell_type": "markdown",
   "metadata": {},
   "source": [
    "```\n",
    "> python step_2_extract_trips_to_airport.py\n",
    "```"
   ]
  },
  {
   "cell_type": "markdown",
   "metadata": {},
   "source": [
    "```\n",
    "> python step_2_extract_trips_to_airport.py\n",
    "=== nyc taxi to airport - step 2 extract trips to airport\n",
    "loading file: nyc-2017-yellow-taxi-trips.cvs.gz\n",
    "time 18s | 10,000,000 lines read in | 222,622 lines selected\n",
    "time 36s | 20,000,000 lines read in | 467,448 lines selected\n",
    "time 53s | 30,000,000 lines read in | 706,344 lines selected\n",
    "time 71s | 40,000,000 lines read in | 932,478 lines selected\n",
    "time 90s | 50,000,000 lines read in | 1,166,319 lines selected\n",
    "time 108s | 60,000,000 lines read in | 1,401,412 lines selected\n",
    "time 126s | 70,000,000 lines read in | 1,636,481 lines selected\n",
    "time 145s | 80,000,000 lines read in | 1,860,261 lines selected\n",
    "time 163s | 90,000,000 lines read in | 2,058,773 lines selected\n",
    "time 181s | 100,000,000 lines read in | 2,244,486 lines selected\n",
    "time 199s | 110,000,000 lines read in | 2,451,356 lines selected\n",
    "time 206s | 113,496,874 lines read in | 2,533,072 lines selected\n",
    "saving file: nyc-2017-yellow-taxi-trips-to-airport.cvs.gz\n",
    "done\n",
    "```"
   ]
  },
  {
   "cell_type": "markdown",
   "metadata": {},
   "source": [
    "The result file contains 2,533,073 data rows plus one header line. Its gzipped size is now only 50MB."
   ]
  },
  {
   "cell_type": "markdown",
   "metadata": {},
   "source": [
    "```\n",
    "> gunzip -l nyc-2017-yellow-taxi-trips-to-airport.cvs.gz\n",
    "         compressed        uncompressed  ratio uncompressed_name\n",
    "           51793187           278755354  81.4% nyc-2017-yellow-taxi-trips-to-airport.cvs\n",
    "> gunzip -c nyc-2017-yellow-taxi-trips-to-airport.cvs.gz|wc -l\n",
    "2533073\n",
    "```"
   ]
  },
  {
   "cell_type": "markdown",
   "metadata": {},
   "source": [
    "## Clean data"
   ]
  },
  {
   "cell_type": "markdown",
   "metadata": {},
   "source": [
    "The module for cleaning is called: `step_3_clean_data.py`"
   ]
  },
  {
   "cell_type": "code",
   "execution_count": 13,
   "metadata": {},
   "outputs": [],
   "source": [
    "import step_3_clean_data as step3"
   ]
  },
  {
   "cell_type": "markdown",
   "metadata": {},
   "source": [
    "Lets load the data and look for stuff to clean up."
   ]
  },
  {
   "cell_type": "code",
   "execution_count": 28,
   "metadata": {},
   "outputs": [
    {
     "name": "stdout",
     "output_type": "stream",
     "text": [
      "CPU times: user 12.9 s, sys: 1.19 s, total: 14.1 s\n",
      "Wall time: 14.4 s\n"
     ]
    }
   ],
   "source": [
    "# note: the input of step 3 is the output of step 2\n",
    "#       if you did not execute step 2, this will fail\n",
    "%time df2 = pd.read_csv(step3.input_file)"
   ]
  },
  {
   "cell_type": "code",
   "execution_count": 29,
   "metadata": {},
   "outputs": [
    {
     "name": "stdout",
     "output_type": "stream",
     "text": [
      "<class 'pandas.core.frame.DataFrame'>\n",
      "RangeIndex: 2533072 entries, 0 to 2533071\n",
      "Data columns (total 18 columns):\n",
      "Unnamed: 0               int64\n",
      "VendorID                 int64\n",
      "tpep_pickup_datetime     object\n",
      "tpep_dropoff_datetime    object\n",
      "passenger_count          int64\n",
      "trip_distance            float64\n",
      "RatecodeID               int64\n",
      "store_and_fwd_flag       object\n",
      "PULocationID             int64\n",
      "DOLocationID             int64\n",
      "payment_type             int64\n",
      "fare_amount              float64\n",
      "extra                    float64\n",
      "mta_tax                  float64\n",
      "tip_amount               float64\n",
      "tolls_amount             float64\n",
      "improvement_surcharge    float64\n",
      "total_amount             float64\n",
      "dtypes: float64(8), int64(7), object(3)\n",
      "memory usage: 831.0 MB\n"
     ]
    }
   ],
   "source": [
    "df2.info(memory_usage='deep')"
   ]
  },
  {
   "cell_type": "markdown",
   "metadata": {},
   "source": [
    "This dataframe has a size of 831MB in memory."
   ]
  },
  {
   "cell_type": "markdown",
   "metadata": {},
   "source": [
    "We will not pick all columns, only this ones:"
   ]
  },
  {
   "cell_type": "code",
   "execution_count": 30,
   "metadata": {},
   "outputs": [
    {
     "data": {
      "text/plain": [
       "['Unnamed: 0',\n",
       " 'tpep_pickup_datetime',\n",
       " 'tpep_dropoff_datetime',\n",
       " 'PULocationID',\n",
       " 'DOLocationID',\n",
       " 'trip_distance']"
      ]
     },
     "execution_count": 30,
     "metadata": {},
     "output_type": "execute_result"
    }
   ],
   "source": [
    "step3.cols_to_use"
   ]
  },
  {
   "cell_type": "code",
   "execution_count": 33,
   "metadata": {},
   "outputs": [
    {
     "name": "stdout",
     "output_type": "stream",
     "text": [
      "<class 'pandas.core.frame.DataFrame'>\n",
      "RangeIndex: 2533072 entries, 0 to 2533071\n",
      "Data columns (total 6 columns):\n",
      "Unnamed: 0               int64\n",
      "tpep_pickup_datetime     object\n",
      "tpep_dropoff_datetime    object\n",
      "PULocationID             int64\n",
      "DOLocationID             int64\n",
      "trip_distance            float64\n",
      "dtypes: float64(1), int64(3), object(2)\n",
      "memory usage: 459.0 MB\n"
     ]
    }
   ],
   "source": [
    "df2[step3.cols_to_use].info(memory_usage='deep')"
   ]
  },
  {
   "cell_type": "markdown",
   "metadata": {},
   "source": [
    "That almost reduces the size by >330MB.\n",
    "\n",
    "The column called 'Unnamed: 0' contains the original row numbers from the raw csv file. I will keep them, they may be helpful."
   ]
  },
  {
   "cell_type": "markdown",
   "metadata": {},
   "source": [
    "We can reduce memory with different datatypes: for location ids"
   ]
  },
  {
   "cell_type": "code",
   "execution_count": 36,
   "metadata": {},
   "outputs": [
    {
     "data": {
      "text/plain": [
       "{'PULocationID': numpy.int16, 'DOLocationID': numpy.int16}"
      ]
     },
     "execution_count": 36,
     "metadata": {},
     "output_type": "execute_result"
    }
   ],
   "source": [
    "step3.data_types"
   ]
  },
  {
   "cell_type": "markdown",
   "metadata": {},
   "source": [
    "... and by parsing the datetime strings"
   ]
  },
  {
   "cell_type": "code",
   "execution_count": 37,
   "metadata": {},
   "outputs": [
    {
     "data": {
      "text/plain": [
       "['tpep_pickup_datetime', 'tpep_dropoff_datetime']"
      ]
     },
     "execution_count": 37,
     "metadata": {},
     "output_type": "execute_result"
    }
   ],
   "source": [
    "step3.dates_to_parse"
   ]
  },
  {
   "cell_type": "markdown",
   "metadata": {},
   "source": [
    "This all happens if you call the main function."
   ]
  },
  {
   "cell_type": "code",
   "execution_count": 38,
   "metadata": {},
   "outputs": [
    {
     "data": {
      "text/plain": [
       "\u001b[0;31mSignature:\u001b[0m \u001b[0mstep3\u001b[0m\u001b[0;34m.\u001b[0m\u001b[0mmain\u001b[0m\u001b[0;34m(\u001b[0m\u001b[0;34m)\u001b[0m\u001b[0;34m\u001b[0m\u001b[0m\n",
       "\u001b[0;31mDocstring:\u001b[0m\n",
       "Loads the data for taxi trips to airports from step 2, cleans it and saves the result.\n",
       "\n",
       "If output_file already exists, the function skips.\n",
       "Remove the output_file manually in that case.\n",
       "\n",
       "The input_file is loaded in chunks of 100,000 lines.\n",
       "While loading simple progress info will be displayed.\n",
       "\n",
       "After the whole file is loaded the function clean_data is applied.\n",
       "That includes a transformation to efficient datatypes.\n",
       "\n",
       "At the end the cleaned dataset is saved as a gzipped pickle file,\n",
       "so that the datatypes are not lost.\n",
       "\n",
       "Remember: pickle files should only be used for temporary storage, since\n",
       "the format is not guaranteed to be stable between different lib versions.                   \n",
       "\n",
       "Keyword Arguments: -\n",
       "\n",
       "Returns: -\n",
       "\u001b[0;31mFile:\u001b[0m      ~/github/nyc-taxi-to-airport/step_3_clean_data.py\n",
       "\u001b[0;31mType:\u001b[0m      function\n"
      ]
     },
     "metadata": {},
     "output_type": "display_data"
    }
   ],
   "source": [
    "step3.main?"
   ]
  },
  {
   "cell_type": "code",
   "execution_count": 39,
   "metadata": {},
   "outputs": [
    {
     "data": {
      "text/plain": [
       "\u001b[0;31mSignature:\u001b[0m \u001b[0mstep3\u001b[0m\u001b[0;34m.\u001b[0m\u001b[0mload_data\u001b[0m\u001b[0;34m(\u001b[0m\u001b[0minput_file\u001b[0m\u001b[0;34m)\u001b[0m\u001b[0;34m\u001b[0m\u001b[0m\n",
       "\u001b[0;31mDocstring:\u001b[0m\n",
       "Loads the dataframe from input_file.\n",
       "\n",
       "The file will be loaded with pandas.read_csv with a chunksize of 100_000.\n",
       "Simple progress info will be displayed during loading.\n",
       "\n",
       "To speed up, the following transformations are done while loading:\n",
       "   - only the columns in cols_to_use are loaded\n",
       "   - data types are mapped as specified in dict data_types\n",
       "   - the columns specified in dates_to_parse will be parsed\n",
       "\n",
       "Keyword Arguments:\n",
       "input_file -- the filepath of the input file to read\n",
       "\n",
       "Returns: the loaded dataframe\n",
       "\u001b[0;31mFile:\u001b[0m      ~/github/nyc-taxi-to-airport/step_3_clean_data.py\n",
       "\u001b[0;31mType:\u001b[0m      function\n"
      ]
     },
     "metadata": {},
     "output_type": "display_data"
    }
   ],
   "source": [
    "step3.load_data?"
   ]
  },
  {
   "cell_type": "code",
   "execution_count": 49,
   "metadata": {},
   "outputs": [
    {
     "data": {
      "text/plain": [
       "\u001b[0;31mSignature:\u001b[0m \u001b[0mstep3\u001b[0m\u001b[0;34m.\u001b[0m\u001b[0mclean_data\u001b[0m\u001b[0;34m(\u001b[0m\u001b[0mdf\u001b[0m\u001b[0;34m)\u001b[0m\u001b[0;34m\u001b[0m\u001b[0m\n",
       "\u001b[0;31mDocstring:\u001b[0m\n",
       "Cleans the passed dataframe.\n",
       "\n",
       "Actions done while cleaning:\n",
       "- dropping all rows with missing location ids\n",
       "- dropping all rows where dropoff time is before pickup time\n",
       "- consider all location ids that map to the same zone as equivalent and replace them with a single value\n",
       "\n",
       "Keyword Arguments:\n",
       "df -- the dataframe to clean\n",
       "\n",
       "Returns: the cleaned dataframe\n",
       "\u001b[0;31mFile:\u001b[0m      ~/github/nyc-taxi-to-airport/step_3_clean_data.py\n",
       "\u001b[0;31mType:\u001b[0m      function\n"
      ]
     },
     "metadata": {},
     "output_type": "display_data"
    }
   ],
   "source": [
    "step3.clean_data?"
   ]
  },
  {
   "cell_type": "code",
   "execution_count": 40,
   "metadata": {},
   "outputs": [
    {
     "data": {
      "text/plain": [
       "'nyc-2017-yellow-taxi-trips-to-airport.pkl.gz'"
      ]
     },
     "execution_count": 40,
     "metadata": {},
     "output_type": "execute_result"
    }
   ],
   "source": [
    "step3.output_file"
   ]
  },
  {
   "cell_type": "markdown",
   "metadata": {},
   "source": [
    "You may call it from command line:\n",
    "````\n",
    "=== nyc taxi to airport - step 3 clean data\n",
    "loading file: nyc-2017-yellow-taxi-trips-to-airport.cvs.gz\n",
    "100,000 lines read | time 20s\n",
    "200,000 lines read | time 41s\n",
    "300,000 lines read | time 61s\n",
    "400,000 lines read | time 82s\n",
    "500,000 lines read | time 103s\n",
    "600,000 lines read | time 123s\n",
    "700,000 lines read | time 144s\n",
    "800,000 lines read | time 165s\n",
    "900,000 lines read | time 185s\n",
    "1,000,000 lines read | time 206s\n",
    "1,100,000 lines read | time 226s\n",
    "1,200,000 lines read | time 247s\n",
    "1,300,000 lines read | time 268s\n",
    "1,400,000 lines read | time 289s\n",
    "1,500,000 lines read | time 309s\n",
    "1,600,000 lines read | time 330s\n",
    "1,700,000 lines read | time 351s\n",
    "1,800,000 lines read | time 372s\n",
    "1,900,000 lines read | time 393s\n",
    "2,000,000 lines read | time 413s\n",
    "2,100,000 lines read | time 434s\n",
    "2,200,000 lines read | time 455s\n",
    "2,300,000 lines read | time 475s\n",
    "2,400,000 lines read | time 496s\n",
    "2,500,000 lines read | time 516s\n",
    "2,533,072 lines read | time 523s\n",
    "saving file: nyc-2017-yellow-taxi-trips-to-airport.pkl.gz\n",
    "done\n",
    "```"
   ]
  },
  {
   "cell_type": "markdown",
   "metadata": {},
   "source": [
    "## Transform data"
   ]
  },
  {
   "cell_type": "markdown",
   "metadata": {},
   "source": [
    "The module for transforming is called: `step_4_transform_data.py`."
   ]
  },
  {
   "cell_type": "code",
   "execution_count": 50,
   "metadata": {},
   "outputs": [],
   "source": [
    "import step_4_transform as step4"
   ]
  },
  {
   "cell_type": "code",
   "execution_count": 51,
   "metadata": {},
   "outputs": [
    {
     "data": {
      "text/plain": [
       "'nyc-2017-yellow-taxi-trips-to-airport.cvs.gz'"
      ]
     },
     "execution_count": 51,
     "metadata": {},
     "output_type": "execute_result"
    }
   ],
   "source": [
    "step4.input_file"
   ]
  },
  {
   "cell_type": "code",
   "execution_count": 53,
   "metadata": {},
   "outputs": [
    {
     "data": {
      "text/plain": [
       "'nyc-2017-yellow-taxi-trips-to-airport-expanded.pkl.gz'"
      ]
     },
     "execution_count": 53,
     "metadata": {},
     "output_type": "execute_result"
    }
   ],
   "source": [
    "step4.output_file"
   ]
  },
  {
   "cell_type": "code",
   "execution_count": 55,
   "metadata": {},
   "outputs": [
    {
     "data": {
      "text/plain": [
       "\u001b[0;31mSignature:\u001b[0m \u001b[0mstep4\u001b[0m\u001b[0;34m.\u001b[0m\u001b[0mmain\u001b[0m\u001b[0;34m(\u001b[0m\u001b[0;34m)\u001b[0m\u001b[0;34m\u001b[0m\u001b[0m\n",
       "\u001b[0;31mDocstring:\u001b[0m\n",
       "Loads the cleaned data for taxi trips to airports from step 3, transforms it and saves the result.\n",
       "\n",
       "If output_file already exists, the function skips.\n",
       "Remove the output_file manually in that case.\n",
       "\n",
       "The input_file is loaded unchunked.\n",
       "\n",
       "After the whole file is loaded the function transform is applied.\n",
       "\n",
       "At the end the transformed dataset is saved as a gzipped pickle file.\n",
       "\n",
       "Remember: pickle files should only be used for temporary storage, since\n",
       "the format is not guaranteed to be stable between different lib versions.                   \n",
       "\n",
       "Keyword Arguments: -\n",
       "\n",
       "Returns: -\n",
       "\u001b[0;31mFile:\u001b[0m      ~/github/nyc-taxi-to-airport/step_4_transform.py\n",
       "\u001b[0;31mType:\u001b[0m      function\n"
      ]
     },
     "metadata": {},
     "output_type": "display_data"
    }
   ],
   "source": [
    "step4.main?"
   ]
  },
  {
   "cell_type": "code",
   "execution_count": 57,
   "metadata": {},
   "outputs": [
    {
     "data": {
      "text/plain": [
       "\u001b[0;31mSignature:\u001b[0m \u001b[0mstep4\u001b[0m\u001b[0;34m.\u001b[0m\u001b[0mtransform\u001b[0m\u001b[0;34m(\u001b[0m\u001b[0mdf\u001b[0m\u001b[0;34m)\u001b[0m\u001b[0;34m\u001b[0m\u001b[0m\n",
       "\u001b[0;31mDocstring:\u001b[0m\n",
       "Transforms the passed dataframe.\n",
       "\n",
       "Actions done while transforming:\n",
       "- translating location ids to zone name categories\n",
       "- renaming datetime: get rid of the tpep_ prefix\n",
       "- add additional variables derived from the dropoff dateime\n",
       "- add trip duration in minutes and in hours\n",
       "- add trip velocity\n",
       "\n",
       "Keyword Arguments:\n",
       "df -- the dataframe to transform\n",
       "\n",
       "Returns: the transformed dataframe\n",
       "\u001b[0;31mFile:\u001b[0m      ~/github/nyc-taxi-to-airport/step_4_transform.py\n",
       "\u001b[0;31mType:\u001b[0m      function\n"
      ]
     },
     "metadata": {},
     "output_type": "display_data"
    }
   ],
   "source": [
    "step4.transform?"
   ]
  },
  {
   "cell_type": "markdown",
   "metadata": {},
   "source": [
    "You may call it from command line:"
   ]
  },
  {
   "cell_type": "markdown",
   "metadata": {},
   "source": [
    "````\n",
    "> python step_4_transform.py\n",
    "loading file: nyc-2017-yellow-taxi-trips-to-airport.pkl.gz\n",
    "=== nyc taxi to airport - step 4 transform\n",
    "transform location ids to zones\n",
    "renaming datetimes\n",
    "adding additonal datetime variables\n",
    "adding trip duration in minutes\n",
    "adding trip duration in hours\n",
    "adding trip velocity\n",
    "<class 'pandas.core.frame.DataFrame'>\n",
    "Int64Index: 2509468 entries, 14 to 113496861\n",
    "Data columns (total 17 columns):\n",
    "pickup_datetime           datetime64[ns]\n",
    "dropoff_datetime          datetime64[ns]\n",
    "trip_distance             float64\n",
    "pickup_borough            category\n",
    "pickup_zone               category\n",
    "dropoff_zone              category\n",
    "pickup_service_zone       category\n",
    "dropoff_month             category\n",
    "drop_off_week_of_year     category\n",
    "dropoff_day_of_year       category\n",
    "dropoff_day_of_month      category\n",
    "dropoff_weekday           category\n",
    "dropoff_is_weekend        category\n",
    "dropoff_hour              category\n",
    "trip_duration_minutes     float64\n",
    "trip_duration_hours       float64\n",
    "trip_duration_velocity    float64\n",
    "dtypes: category(11), datetime64[ns](2), float64(4)\n",
    "memory usage: 165.2 MB\n",
    "saving file: nyc-2017-yellow-taxi-trips-to-airport-expanded.pkl.gz\n",
    "done\n",
    "```"
   ]
  },
  {
   "cell_type": "code",
   "execution_count": null,
   "metadata": {},
   "outputs": [],
   "source": []
  }
 ],
 "metadata": {
  "kernelspec": {
   "display_name": "Python [default]",
   "language": "python",
   "name": "python3"
  },
  "language_info": {
   "codemirror_mode": {
    "name": "ipython",
    "version": 3
   },
   "file_extension": ".py",
   "mimetype": "text/x-python",
   "name": "python",
   "nbconvert_exporter": "python",
   "pygments_lexer": "ipython3",
   "version": "3.6.5"
  }
 },
 "nbformat": 4,
 "nbformat_minor": 2
}
