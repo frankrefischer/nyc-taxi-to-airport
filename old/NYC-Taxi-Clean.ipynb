{
 "cells": [
  {
   "cell_type": "code",
   "execution_count": 32,
   "metadata": {},
   "outputs": [],
   "source": [
    "import pandas as pd\n",
    "import numpy as np"
   ]
  },
  {
   "cell_type": "code",
   "execution_count": 43,
   "metadata": {},
   "outputs": [],
   "source": [
    "df = pd.read_pickle('nyc-2017-yellow-taxi-trips-to-airport-expanded.pkl.gz')"
   ]
  },
  {
   "cell_type": "code",
   "execution_count": 44,
   "metadata": {},
   "outputs": [
    {
     "data": {
      "text/plain": [
       "(2509788, 755)"
      ]
     },
     "execution_count": 44,
     "metadata": {},
     "output_type": "execute_result"
    }
   ],
   "source": [
    "df.shape"
   ]
  },
  {
   "cell_type": "code",
   "execution_count": 45,
   "metadata": {},
   "outputs": [
    {
     "data": {
      "text/html": [
       "<div>\n",
       "<style scoped>\n",
       "    .dataframe tbody tr th:only-of-type {\n",
       "        vertical-align: middle;\n",
       "    }\n",
       "\n",
       "    .dataframe tbody tr th {\n",
       "        vertical-align: top;\n",
       "    }\n",
       "\n",
       "    .dataframe thead th {\n",
       "        text-align: right;\n",
       "    }\n",
       "</style>\n",
       "<table border=\"1\" class=\"dataframe\">\n",
       "  <thead>\n",
       "    <tr style=\"text-align: right;\">\n",
       "      <th></th>\n",
       "      <th>pickup_datetime</th>\n",
       "      <th>dropoff_datetime</th>\n",
       "      <th>pickup_borough</th>\n",
       "      <th>pickup_zone</th>\n",
       "      <th>pickup_service_zone</th>\n",
       "      <th>dropoff_zone</th>\n",
       "      <th>dropoff_month</th>\n",
       "      <th>drop_off_week_of_year</th>\n",
       "      <th>dropoff_day_of_year</th>\n",
       "      <th>dropoff_day_of_month</th>\n",
       "      <th>...</th>\n",
       "      <th>dropoff_hour_14</th>\n",
       "      <th>dropoff_hour_15</th>\n",
       "      <th>dropoff_hour_16</th>\n",
       "      <th>dropoff_hour_17</th>\n",
       "      <th>dropoff_hour_18</th>\n",
       "      <th>dropoff_hour_19</th>\n",
       "      <th>dropoff_hour_20</th>\n",
       "      <th>dropoff_hour_21</th>\n",
       "      <th>dropoff_hour_22</th>\n",
       "      <th>dropoff_hour_23</th>\n",
       "    </tr>\n",
       "  </thead>\n",
       "  <tbody>\n",
       "    <tr>\n",
       "      <th>14</th>\n",
       "      <td>2017-03-28 14:56:33</td>\n",
       "      <td>2017-03-28 16:14:19</td>\n",
       "      <td>Manhattan</td>\n",
       "      <td>Greenwich Village North</td>\n",
       "      <td>Yellow Zone</td>\n",
       "      <td>JFK Airport</td>\n",
       "      <td>3</td>\n",
       "      <td>13</td>\n",
       "      <td>87</td>\n",
       "      <td>28</td>\n",
       "      <td>...</td>\n",
       "      <td>0</td>\n",
       "      <td>0</td>\n",
       "      <td>1</td>\n",
       "      <td>0</td>\n",
       "      <td>0</td>\n",
       "      <td>0</td>\n",
       "      <td>0</td>\n",
       "      <td>0</td>\n",
       "      <td>0</td>\n",
       "      <td>0</td>\n",
       "    </tr>\n",
       "    <tr>\n",
       "      <th>18</th>\n",
       "      <td>2017-03-28 14:56:35</td>\n",
       "      <td>2017-03-28 15:50:06</td>\n",
       "      <td>Manhattan</td>\n",
       "      <td>Lenox Hill West</td>\n",
       "      <td>Yellow Zone</td>\n",
       "      <td>JFK Airport</td>\n",
       "      <td>3</td>\n",
       "      <td>13</td>\n",
       "      <td>87</td>\n",
       "      <td>28</td>\n",
       "      <td>...</td>\n",
       "      <td>0</td>\n",
       "      <td>1</td>\n",
       "      <td>0</td>\n",
       "      <td>0</td>\n",
       "      <td>0</td>\n",
       "      <td>0</td>\n",
       "      <td>0</td>\n",
       "      <td>0</td>\n",
       "      <td>0</td>\n",
       "      <td>0</td>\n",
       "    </tr>\n",
       "    <tr>\n",
       "      <th>63</th>\n",
       "      <td>2017-03-28 14:56:45</td>\n",
       "      <td>2017-03-28 15:35:29</td>\n",
       "      <td>Manhattan</td>\n",
       "      <td>Central Park</td>\n",
       "      <td>Yellow Zone</td>\n",
       "      <td>LaGuardia Airport</td>\n",
       "      <td>3</td>\n",
       "      <td>13</td>\n",
       "      <td>87</td>\n",
       "      <td>28</td>\n",
       "      <td>...</td>\n",
       "      <td>0</td>\n",
       "      <td>1</td>\n",
       "      <td>0</td>\n",
       "      <td>0</td>\n",
       "      <td>0</td>\n",
       "      <td>0</td>\n",
       "      <td>0</td>\n",
       "      <td>0</td>\n",
       "      <td>0</td>\n",
       "      <td>0</td>\n",
       "    </tr>\n",
       "    <tr>\n",
       "      <th>128</th>\n",
       "      <td>2017-03-28 14:57:00</td>\n",
       "      <td>2017-03-28 15:27:54</td>\n",
       "      <td>Manhattan</td>\n",
       "      <td>Garment District</td>\n",
       "      <td>Yellow Zone</td>\n",
       "      <td>LaGuardia Airport</td>\n",
       "      <td>3</td>\n",
       "      <td>13</td>\n",
       "      <td>87</td>\n",
       "      <td>28</td>\n",
       "      <td>...</td>\n",
       "      <td>0</td>\n",
       "      <td>1</td>\n",
       "      <td>0</td>\n",
       "      <td>0</td>\n",
       "      <td>0</td>\n",
       "      <td>0</td>\n",
       "      <td>0</td>\n",
       "      <td>0</td>\n",
       "      <td>0</td>\n",
       "      <td>0</td>\n",
       "    </tr>\n",
       "    <tr>\n",
       "      <th>140</th>\n",
       "      <td>2017-03-28 14:57:04</td>\n",
       "      <td>2017-03-28 15:45:30</td>\n",
       "      <td>Manhattan</td>\n",
       "      <td>Murray Hill</td>\n",
       "      <td>Yellow Zone</td>\n",
       "      <td>JFK Airport</td>\n",
       "      <td>3</td>\n",
       "      <td>13</td>\n",
       "      <td>87</td>\n",
       "      <td>28</td>\n",
       "      <td>...</td>\n",
       "      <td>0</td>\n",
       "      <td>1</td>\n",
       "      <td>0</td>\n",
       "      <td>0</td>\n",
       "      <td>0</td>\n",
       "      <td>0</td>\n",
       "      <td>0</td>\n",
       "      <td>0</td>\n",
       "      <td>0</td>\n",
       "      <td>0</td>\n",
       "    </tr>\n",
       "  </tbody>\n",
       "</table>\n",
       "<p>5 rows × 755 columns</p>\n",
       "</div>"
      ],
      "text/plain": [
       "        pickup_datetime    dropoff_datetime pickup_borough  \\\n",
       "14  2017-03-28 14:56:33 2017-03-28 16:14:19      Manhattan   \n",
       "18  2017-03-28 14:56:35 2017-03-28 15:50:06      Manhattan   \n",
       "63  2017-03-28 14:56:45 2017-03-28 15:35:29      Manhattan   \n",
       "128 2017-03-28 14:57:00 2017-03-28 15:27:54      Manhattan   \n",
       "140 2017-03-28 14:57:04 2017-03-28 15:45:30      Manhattan   \n",
       "\n",
       "                 pickup_zone pickup_service_zone       dropoff_zone  \\\n",
       "14   Greenwich Village North         Yellow Zone        JFK Airport   \n",
       "18           Lenox Hill West         Yellow Zone        JFK Airport   \n",
       "63              Central Park         Yellow Zone  LaGuardia Airport   \n",
       "128         Garment District         Yellow Zone  LaGuardia Airport   \n",
       "140              Murray Hill         Yellow Zone        JFK Airport   \n",
       "\n",
       "    dropoff_month drop_off_week_of_year dropoff_day_of_year  \\\n",
       "14              3                    13                  87   \n",
       "18              3                    13                  87   \n",
       "63              3                    13                  87   \n",
       "128             3                    13                  87   \n",
       "140             3                    13                  87   \n",
       "\n",
       "    dropoff_day_of_month       ...        dropoff_hour_14  dropoff_hour_15  \\\n",
       "14                    28       ...                      0                0   \n",
       "18                    28       ...                      0                1   \n",
       "63                    28       ...                      0                1   \n",
       "128                   28       ...                      0                1   \n",
       "140                   28       ...                      0                1   \n",
       "\n",
       "     dropoff_hour_16  dropoff_hour_17  dropoff_hour_18  dropoff_hour_19  \\\n",
       "14                 1                0                0                0   \n",
       "18                 0                0                0                0   \n",
       "63                 0                0                0                0   \n",
       "128                0                0                0                0   \n",
       "140                0                0                0                0   \n",
       "\n",
       "     dropoff_hour_20  dropoff_hour_21  dropoff_hour_22  dropoff_hour_23  \n",
       "14                 0                0                0                0  \n",
       "18                 0                0                0                0  \n",
       "63                 0                0                0                0  \n",
       "128                0                0                0                0  \n",
       "140                0                0                0                0  \n",
       "\n",
       "[5 rows x 755 columns]"
      ]
     },
     "execution_count": 45,
     "metadata": {},
     "output_type": "execute_result"
    }
   ],
   "source": [
    "df.head()"
   ]
  },
  {
   "cell_type": "code",
   "execution_count": 46,
   "metadata": {},
   "outputs": [
    {
     "name": "stdout",
     "output_type": "stream",
     "text": [
      "<class 'pandas.core.frame.DataFrame'>\n",
      "Int64Index: 2509788 entries, 14 to 113496861\n",
      "Columns: 755 entries, pickup_datetime to dropoff_hour_23\n",
      "dtypes: category(9), datetime64[ns](2), uint8(744)\n",
      "memory usage: 1.8 GB\n"
     ]
    }
   ],
   "source": [
    "df.info()"
   ]
  },
  {
   "cell_type": "code",
   "execution_count": 47,
   "metadata": {},
   "outputs": [
    {
     "data": {
      "text/plain": [
       "Index(['pickup_datetime', 'dropoff_datetime', 'pickup_borough', 'pickup_zone',\n",
       "       'pickup_service_zone', 'dropoff_zone', 'dropoff_month',\n",
       "       'drop_off_week_of_year', 'dropoff_day_of_year', 'dropoff_day_of_month',\n",
       "       ...\n",
       "       'dropoff_hour_14', 'dropoff_hour_15', 'dropoff_hour_16',\n",
       "       'dropoff_hour_17', 'dropoff_hour_18', 'dropoff_hour_19',\n",
       "       'dropoff_hour_20', 'dropoff_hour_21', 'dropoff_hour_22',\n",
       "       'dropoff_hour_23'],\n",
       "      dtype='object', length=755)"
      ]
     },
     "execution_count": 47,
     "metadata": {},
     "output_type": "execute_result"
    }
   ],
   "source": [
    "df.columns"
   ]
  },
  {
   "cell_type": "code",
   "execution_count": null,
   "metadata": {},
   "outputs": [],
   "source": []
  }
 ],
 "metadata": {
  "kernelspec": {
   "display_name": "Python 3",
   "language": "python",
   "name": "python3"
  },
  "language_info": {
   "codemirror_mode": {
    "name": "ipython",
    "version": 3
   },
   "file_extension": ".py",
   "mimetype": "text/x-python",
   "name": "python",
   "nbconvert_exporter": "python",
   "pygments_lexer": "ipython3",
   "version": "3.7.0"
  }
 },
 "nbformat": 4,
 "nbformat_minor": 2
}
