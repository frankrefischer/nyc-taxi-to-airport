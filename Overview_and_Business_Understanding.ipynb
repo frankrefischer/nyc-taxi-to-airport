{
 "cells": [
  {
   "cell_type": "markdown",
   "metadata": {},
   "source": [
    "# Overview\n",
    "\n",
    "This is a project work for the Udacity Datascience Nanodegree.\n",
    "\n",
    "## Business Understanding\n",
    "\n",
    "My wife and me spent holidays in Manhattan in October 2018. Our taxi ride to the Newark Airport got stuck in a terrible traffic jam and we missed out flight.\n",
    "\n",
    "The business questions I want to analyze:\n",
    "\n",
    "#### * Should we have planned more time for the transfer?\n",
    "\n",
    "#### * Which of the three airports has best reachability from the quarter where we stayed this time?\n",
    "\n",
    "#### * Which quarter has best reachability to Newark Airport?\n",
    "\n",
    "## [Data Understanding](Data_Understanding.ipynb)\n",
    "\n",
    "## [Prepare Data](Prepare_Data.ipynb)\n",
    "\n",
    "## [Model Data](Model_Data.ipynb)\n",
    "\n",
    "## Results & Deploy\n",
    "\n",
    "I have summarized the answers in a blog post: https://medium.com/@frfis/taking-a-taxi-and-missing-your-plane-in-new-york-city-f7d120781562\n",
    "\n",
    "### Should we have planned more time for the transfer?\n",
    "No. In 2017 more 99% of all yellow taxi rides that started in Murray Hill (like us) reached Newark Airport in less than 120min.\n",
    "\n",
    "#### Which of the three airports has best reachability from the quarter where we stayed this time?\n",
    "\n",
    "#### Which zone has best reachability to Newark Airport?\n",
    "\n"
   ]
  },
  {
   "cell_type": "code",
   "execution_count": null,
   "metadata": {},
   "outputs": [],
   "source": []
  }
 ],
 "metadata": {
  "kernelspec": {
   "display_name": "Python [default]",
   "language": "python",
   "name": "python3"
  },
  "language_info": {
   "codemirror_mode": {
    "name": "ipython",
    "version": 3
   },
   "file_extension": ".py",
   "mimetype": "text/x-python",
   "name": "python",
   "nbconvert_exporter": "python",
   "pygments_lexer": "ipython3",
   "version": "3.6.5"
  }
 },
 "nbformat": 4,
 "nbformat_minor": 2
}
